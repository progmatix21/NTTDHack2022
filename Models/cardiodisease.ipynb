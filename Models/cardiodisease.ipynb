{
 "cells": [
  {
   "cell_type": "markdown",
   "id": "3fc1d2ab",
   "metadata": {},
   "source": [
    "# NTT Data Hackathon 2022 (AI in Healthcare)[&#129109;](https://www.techgig.com/codegladiators/NTTDATA 'Link to Hackathon page')\n",
    "----------------------------------------\n",
    "## Participant: Atrij Talgery(team ATR21)\n",
    "### Notebook 1: Model training with cardiovascular data to predict heart disease incidence\n",
    "#### Dataset attribution: \n",
    "> **Data source:** <https://www.kaggle.com/datasets/sulianova/cardiovascular-disease-dataset>    \n",
    "  **License:** Unknown\n",
    "  \n",
    "This notebook is part of the solution for the hackathon theme: Early Disease Detection. In this notebook, we train a machine learning model (with cardiovascular incidence data) to predict possibility of a disease condition based on certain health parameters such as: systolic and diastolic blood pressure, weight, height, etc. The model trained via this notebook is meant to be deployed as part of an application."
   ]
  },
  {
   "cell_type": "code",
   "execution_count": 79,
   "id": "e05c4494",
   "metadata": {},
   "outputs": [],
   "source": [
    "#Import libraries\n",
    "import pandas as pd\n",
    "import numpy as np\n",
    "import matplotlib.pyplot as plt\n",
    "import seaborn as sns"
   ]
  },
  {
   "cell_type": "markdown",
   "id": "afcd253c",
   "metadata": {},
   "source": [
    "Read the Dataset"
   ]
  },
  {
   "cell_type": "code",
   "execution_count": 80,
   "id": "9e6430ec",
   "metadata": {},
   "outputs": [],
   "source": [
    "cvdf = pd.read_csv('./Data/cardio_train.csv',sep = ';')"
   ]
  },
  {
   "cell_type": "markdown",
   "id": "2ac3b02d",
   "metadata": {},
   "source": [
    "Get the shape of the Dataset"
   ]
  },
  {
   "cell_type": "code",
   "execution_count": 81,
   "id": "3dbb5b9e",
   "metadata": {},
   "outputs": [
    {
     "data": {
      "text/plain": [
       "(70000, 13)"
      ]
     },
     "execution_count": 81,
     "metadata": {},
     "output_type": "execute_result"
    }
   ],
   "source": [
    "cvdf.shape"
   ]
  },
  {
   "cell_type": "markdown",
   "id": "758935ae",
   "metadata": {},
   "source": [
    "Something about dataset, the datatypes, count etc."
   ]
  },
  {
   "cell_type": "code",
   "execution_count": 82,
   "id": "10c4f40d",
   "metadata": {},
   "outputs": [
    {
     "name": "stdout",
     "output_type": "stream",
     "text": [
      "<class 'pandas.core.frame.DataFrame'>\n",
      "RangeIndex: 70000 entries, 0 to 69999\n",
      "Data columns (total 13 columns):\n",
      " #   Column       Non-Null Count  Dtype  \n",
      "---  ------       --------------  -----  \n",
      " 0   id           70000 non-null  int64  \n",
      " 1   age          70000 non-null  int64  \n",
      " 2   gender       70000 non-null  int64  \n",
      " 3   height       70000 non-null  int64  \n",
      " 4   weight       70000 non-null  float64\n",
      " 5   ap_hi        70000 non-null  int64  \n",
      " 6   ap_lo        70000 non-null  int64  \n",
      " 7   cholesterol  70000 non-null  int64  \n",
      " 8   gluc         70000 non-null  int64  \n",
      " 9   smoke        70000 non-null  int64  \n",
      " 10  alco         70000 non-null  int64  \n",
      " 11  active       70000 non-null  int64  \n",
      " 12  cardio       70000 non-null  int64  \n",
      "dtypes: float64(1), int64(12)\n",
      "memory usage: 6.9 MB\n"
     ]
    }
   ],
   "source": [
    "#Information of column name, null type, count and Data Type\n",
    "cvdf.info()"
   ]
  },
  {
   "cell_type": "markdown",
   "id": "98ca2087",
   "metadata": {},
   "source": [
    "4 point summary of nominal/categorical variables"
   ]
  },
  {
   "cell_type": "code",
   "execution_count": 83,
   "id": "7f0fdddc",
   "metadata": {},
   "outputs": [
    {
     "data": {
      "text/html": [
       "<div>\n",
       "<style scoped>\n",
       "    .dataframe tbody tr th:only-of-type {\n",
       "        vertical-align: middle;\n",
       "    }\n",
       "\n",
       "    .dataframe tbody tr th {\n",
       "        vertical-align: top;\n",
       "    }\n",
       "\n",
       "    .dataframe thead th {\n",
       "        text-align: right;\n",
       "    }\n",
       "</style>\n",
       "<table border=\"1\" class=\"dataframe\">\n",
       "  <thead>\n",
       "    <tr style=\"text-align: right;\">\n",
       "      <th></th>\n",
       "      <th>id</th>\n",
       "      <th>age</th>\n",
       "      <th>gender</th>\n",
       "      <th>height</th>\n",
       "      <th>ap_hi</th>\n",
       "      <th>ap_lo</th>\n",
       "      <th>cholesterol</th>\n",
       "      <th>gluc</th>\n",
       "      <th>smoke</th>\n",
       "      <th>alco</th>\n",
       "      <th>active</th>\n",
       "      <th>cardio</th>\n",
       "    </tr>\n",
       "  </thead>\n",
       "  <tbody>\n",
       "    <tr>\n",
       "      <th>count</th>\n",
       "      <td>70000.000000</td>\n",
       "      <td>70000.000000</td>\n",
       "      <td>70000.000000</td>\n",
       "      <td>70000.000000</td>\n",
       "      <td>70000.000000</td>\n",
       "      <td>70000.000000</td>\n",
       "      <td>70000.000000</td>\n",
       "      <td>70000.000000</td>\n",
       "      <td>70000.000000</td>\n",
       "      <td>70000.000000</td>\n",
       "      <td>70000.000000</td>\n",
       "      <td>70000.000000</td>\n",
       "    </tr>\n",
       "    <tr>\n",
       "      <th>mean</th>\n",
       "      <td>49972.419900</td>\n",
       "      <td>19468.865814</td>\n",
       "      <td>1.349571</td>\n",
       "      <td>164.359229</td>\n",
       "      <td>128.817286</td>\n",
       "      <td>96.630414</td>\n",
       "      <td>1.366871</td>\n",
       "      <td>1.226457</td>\n",
       "      <td>0.088129</td>\n",
       "      <td>0.053771</td>\n",
       "      <td>0.803729</td>\n",
       "      <td>0.499700</td>\n",
       "    </tr>\n",
       "    <tr>\n",
       "      <th>std</th>\n",
       "      <td>28851.302323</td>\n",
       "      <td>2467.251667</td>\n",
       "      <td>0.476838</td>\n",
       "      <td>8.210126</td>\n",
       "      <td>154.011419</td>\n",
       "      <td>188.472530</td>\n",
       "      <td>0.680250</td>\n",
       "      <td>0.572270</td>\n",
       "      <td>0.283484</td>\n",
       "      <td>0.225568</td>\n",
       "      <td>0.397179</td>\n",
       "      <td>0.500003</td>\n",
       "    </tr>\n",
       "    <tr>\n",
       "      <th>min</th>\n",
       "      <td>0.000000</td>\n",
       "      <td>10798.000000</td>\n",
       "      <td>1.000000</td>\n",
       "      <td>55.000000</td>\n",
       "      <td>-150.000000</td>\n",
       "      <td>-70.000000</td>\n",
       "      <td>1.000000</td>\n",
       "      <td>1.000000</td>\n",
       "      <td>0.000000</td>\n",
       "      <td>0.000000</td>\n",
       "      <td>0.000000</td>\n",
       "      <td>0.000000</td>\n",
       "    </tr>\n",
       "    <tr>\n",
       "      <th>25%</th>\n",
       "      <td>25006.750000</td>\n",
       "      <td>17664.000000</td>\n",
       "      <td>1.000000</td>\n",
       "      <td>159.000000</td>\n",
       "      <td>120.000000</td>\n",
       "      <td>80.000000</td>\n",
       "      <td>1.000000</td>\n",
       "      <td>1.000000</td>\n",
       "      <td>0.000000</td>\n",
       "      <td>0.000000</td>\n",
       "      <td>1.000000</td>\n",
       "      <td>0.000000</td>\n",
       "    </tr>\n",
       "    <tr>\n",
       "      <th>50%</th>\n",
       "      <td>50001.500000</td>\n",
       "      <td>19703.000000</td>\n",
       "      <td>1.000000</td>\n",
       "      <td>165.000000</td>\n",
       "      <td>120.000000</td>\n",
       "      <td>80.000000</td>\n",
       "      <td>1.000000</td>\n",
       "      <td>1.000000</td>\n",
       "      <td>0.000000</td>\n",
       "      <td>0.000000</td>\n",
       "      <td>1.000000</td>\n",
       "      <td>0.000000</td>\n",
       "    </tr>\n",
       "    <tr>\n",
       "      <th>75%</th>\n",
       "      <td>74889.250000</td>\n",
       "      <td>21327.000000</td>\n",
       "      <td>2.000000</td>\n",
       "      <td>170.000000</td>\n",
       "      <td>140.000000</td>\n",
       "      <td>90.000000</td>\n",
       "      <td>2.000000</td>\n",
       "      <td>1.000000</td>\n",
       "      <td>0.000000</td>\n",
       "      <td>0.000000</td>\n",
       "      <td>1.000000</td>\n",
       "      <td>1.000000</td>\n",
       "    </tr>\n",
       "    <tr>\n",
       "      <th>max</th>\n",
       "      <td>99999.000000</td>\n",
       "      <td>23713.000000</td>\n",
       "      <td>2.000000</td>\n",
       "      <td>250.000000</td>\n",
       "      <td>16020.000000</td>\n",
       "      <td>11000.000000</td>\n",
       "      <td>3.000000</td>\n",
       "      <td>3.000000</td>\n",
       "      <td>1.000000</td>\n",
       "      <td>1.000000</td>\n",
       "      <td>1.000000</td>\n",
       "      <td>1.000000</td>\n",
       "    </tr>\n",
       "  </tbody>\n",
       "</table>\n",
       "</div>"
      ],
      "text/plain": [
       "                 id           age        gender        height         ap_hi  \\\n",
       "count  70000.000000  70000.000000  70000.000000  70000.000000  70000.000000   \n",
       "mean   49972.419900  19468.865814      1.349571    164.359229    128.817286   \n",
       "std    28851.302323   2467.251667      0.476838      8.210126    154.011419   \n",
       "min        0.000000  10798.000000      1.000000     55.000000   -150.000000   \n",
       "25%    25006.750000  17664.000000      1.000000    159.000000    120.000000   \n",
       "50%    50001.500000  19703.000000      1.000000    165.000000    120.000000   \n",
       "75%    74889.250000  21327.000000      2.000000    170.000000    140.000000   \n",
       "max    99999.000000  23713.000000      2.000000    250.000000  16020.000000   \n",
       "\n",
       "              ap_lo   cholesterol          gluc         smoke          alco  \\\n",
       "count  70000.000000  70000.000000  70000.000000  70000.000000  70000.000000   \n",
       "mean      96.630414      1.366871      1.226457      0.088129      0.053771   \n",
       "std      188.472530      0.680250      0.572270      0.283484      0.225568   \n",
       "min      -70.000000      1.000000      1.000000      0.000000      0.000000   \n",
       "25%       80.000000      1.000000      1.000000      0.000000      0.000000   \n",
       "50%       80.000000      1.000000      1.000000      0.000000      0.000000   \n",
       "75%       90.000000      2.000000      1.000000      0.000000      0.000000   \n",
       "max    11000.000000      3.000000      3.000000      1.000000      1.000000   \n",
       "\n",
       "             active        cardio  \n",
       "count  70000.000000  70000.000000  \n",
       "mean       0.803729      0.499700  \n",
       "std        0.397179      0.500003  \n",
       "min        0.000000      0.000000  \n",
       "25%        1.000000      0.000000  \n",
       "50%        1.000000      0.000000  \n",
       "75%        1.000000      1.000000  \n",
       "max        1.000000      1.000000  "
      ]
     },
     "execution_count": 83,
     "metadata": {},
     "output_type": "execute_result"
    }
   ],
   "source": [
    "#Categorical variables can be grouped into categories. The features having the datatype as\n",
    "#'object' gives us the 4 point summary of all the categorical variables.\n",
    "cvdf.describe(include='int64')"
   ]
  },
  {
   "cell_type": "code",
   "execution_count": 84,
   "id": "842f83ee",
   "metadata": {},
   "outputs": [
    {
     "data": {
      "text/plain": [
       "id             0\n",
       "age            0\n",
       "gender         0\n",
       "height         0\n",
       "weight         0\n",
       "ap_hi          0\n",
       "ap_lo          0\n",
       "cholesterol    0\n",
       "gluc           0\n",
       "smoke          0\n",
       "alco           0\n",
       "active         0\n",
       "cardio         0\n",
       "dtype: int64"
      ]
     },
     "execution_count": 84,
     "metadata": {},
     "output_type": "execute_result"
    }
   ],
   "source": [
    "cvdf.isnull().sum()  #Check for missing values"
   ]
  },
  {
   "cell_type": "code",
   "execution_count": 85,
   "id": "c81f978a",
   "metadata": {},
   "outputs": [
    {
     "data": {
      "text/plain": [
       "1    45530\n",
       "2    24470\n",
       "Name: gender, dtype: int64"
      ]
     },
     "execution_count": 85,
     "metadata": {},
     "output_type": "execute_result"
    }
   ],
   "source": [
    "cvdf['gender'].value_counts()"
   ]
  },
  {
   "cell_type": "markdown",
   "id": "f469a5f6",
   "metadata": {},
   "source": [
    "Let us visually examine the relative count of category values for some categories."
   ]
  },
  {
   "cell_type": "code",
   "execution_count": 86,
   "id": "621e9f69",
   "metadata": {},
   "outputs": [
    {
     "data": {
      "image/png": "[encoded data removed]",
      "text/plain": [
       "<Figure size 1152x288 with 7 Axes>"
      ]
     },
     "metadata": {},
     "output_type": "display_data"
    }
   ],
   "source": [
    "#Draw the subplots using the plt.subplots function with 1 row and 5 columns and figure size of\n",
    "#(16,4)\n",
    "fig,axes = plt.subplots(1,7,figsize=(16,4))\n",
    "#axes.flatten helps us to remove the heirarchical structure of the grid and puts the individual\n",
    "#plots in a single one-dimensional array.\n",
    "axes_flat = axes.flatten()\n",
    "\n",
    "#Fit the subplots in a tight layout with height as 10, width as 4 and pad as 4. tight_layout()\n",
    "#ensures all subplots fit without overlapping each other.\n",
    "fig.tight_layout(h_pad=10, w_pad=4, pad=4)\n",
    "#Assign the super title which comes above all the subplot graphs.\n",
    "fig.suptitle(\"Relative counts of some categoricals\", fontsize=18)\n",
    "#Remove trailing blank axes from the figure. Set the style of the graph as whitegrid.\n",
    "sns.set(style = 'whitegrid')\n",
    "#Plot the graphs using the seaborn countplot. The features lying on the X-axis are specified in\n",
    "#the enumerate function.\n",
    "for ax_idx, feat in enumerate(['gender','cholesterol','gluc',\n",
    "                              'smoke','alco','active','cardio']):\n",
    "    sns.countplot(x=cvdf[feat], ax=axes_flat[ax_idx])\n",
    "    #Print all the x-labels with rotation of 60 degrees.\n",
    "    axes_flat[ax_idx].tick_params(axis='x',labelrotation=60)"
   ]
  },
  {
   "cell_type": "code",
   "execution_count": 87,
   "id": "08dea988",
   "metadata": {},
   "outputs": [
    {
     "data": {
      "text/plain": [
       "0        1\n",
       "66623    1\n",
       "66631    1\n",
       "66630    1\n",
       "66628    1\n",
       "        ..\n",
       "33338    1\n",
       "33339    1\n",
       "33340    1\n",
       "33341    1\n",
       "99999    1\n",
       "Name: id, Length: 70000, dtype: int64"
      ]
     },
     "execution_count": 87,
     "metadata": {},
     "output_type": "execute_result"
    }
   ],
   "source": [
    "cvdf['id'].value_counts()"
   ]
  },
  {
   "cell_type": "markdown",
   "id": "87cf0859",
   "metadata": {},
   "source": [
    "### 5 point summary of Discrete/Numeric Variable\n",
    "\n",
    "**Some of these such as MSSubClass should be categorical although they are encoded as numeric. We will look at all such cases later.**"
   ]
  },
  {
   "cell_type": "code",
   "execution_count": 88,
   "id": "4e7e6493",
   "metadata": {},
   "outputs": [
    {
     "data": {
      "text/html": [
       "<div>\n",
       "<style scoped>\n",
       "    .dataframe tbody tr th:only-of-type {\n",
       "        vertical-align: middle;\n",
       "    }\n",
       "\n",
       "    .dataframe tbody tr th {\n",
       "        vertical-align: top;\n",
       "    }\n",
       "\n",
       "    .dataframe thead th {\n",
       "        text-align: right;\n",
       "    }\n",
       "</style>\n",
       "<table border=\"1\" class=\"dataframe\">\n",
       "  <thead>\n",
       "    <tr style=\"text-align: right;\">\n",
       "      <th></th>\n",
       "      <th>id</th>\n",
       "      <th>age</th>\n",
       "      <th>gender</th>\n",
       "      <th>height</th>\n",
       "      <th>ap_hi</th>\n",
       "      <th>ap_lo</th>\n",
       "      <th>cholesterol</th>\n",
       "      <th>gluc</th>\n",
       "      <th>smoke</th>\n",
       "      <th>alco</th>\n",
       "      <th>active</th>\n",
       "      <th>cardio</th>\n",
       "    </tr>\n",
       "  </thead>\n",
       "  <tbody>\n",
       "    <tr>\n",
       "      <th>count</th>\n",
       "      <td>70000.000000</td>\n",
       "      <td>70000.000000</td>\n",
       "      <td>70000.000000</td>\n",
       "      <td>70000.000000</td>\n",
       "      <td>70000.000000</td>\n",
       "      <td>70000.000000</td>\n",
       "      <td>70000.000000</td>\n",
       "      <td>70000.000000</td>\n",
       "      <td>70000.000000</td>\n",
       "      <td>70000.000000</td>\n",
       "      <td>70000.000000</td>\n",
       "      <td>70000.000000</td>\n",
       "    </tr>\n",
       "    <tr>\n",
       "      <th>mean</th>\n",
       "      <td>49972.419900</td>\n",
       "      <td>19468.865814</td>\n",
       "      <td>1.349571</td>\n",
       "      <td>164.359229</td>\n",
       "      <td>128.817286</td>\n",
       "      <td>96.630414</td>\n",
       "      <td>1.366871</td>\n",
       "      <td>1.226457</td>\n",
       "      <td>0.088129</td>\n",
       "      <td>0.053771</td>\n",
       "      <td>0.803729</td>\n",
       "      <td>0.499700</td>\n",
       "    </tr>\n",
       "    <tr>\n",
       "      <th>std</th>\n",
       "      <td>28851.302323</td>\n",
       "      <td>2467.251667</td>\n",
       "      <td>0.476838</td>\n",
       "      <td>8.210126</td>\n",
       "      <td>154.011419</td>\n",
       "      <td>188.472530</td>\n",
       "      <td>0.680250</td>\n",
       "      <td>0.572270</td>\n",
       "      <td>0.283484</td>\n",
       "      <td>0.225568</td>\n",
       "      <td>0.397179</td>\n",
       "      <td>0.500003</td>\n",
       "    </tr>\n",
       "    <tr>\n",
       "      <th>min</th>\n",
       "      <td>0.000000</td>\n",
       "      <td>10798.000000</td>\n",
       "      <td>1.000000</td>\n",
       "      <td>55.000000</td>\n",
       "      <td>-150.000000</td>\n",
       "      <td>-70.000000</td>\n",
       "      <td>1.000000</td>\n",
       "      <td>1.000000</td>\n",
       "      <td>0.000000</td>\n",
       "      <td>0.000000</td>\n",
       "      <td>0.000000</td>\n",
       "      <td>0.000000</td>\n",
       "    </tr>\n",
       "    <tr>\n",
       "      <th>25%</th>\n",
       "      <td>25006.750000</td>\n",
       "      <td>17664.000000</td>\n",
       "      <td>1.000000</td>\n",
       "      <td>159.000000</td>\n",
       "      <td>120.000000</td>\n",
       "      <td>80.000000</td>\n",
       "      <td>1.000000</td>\n",
       "      <td>1.000000</td>\n",
       "      <td>0.000000</td>\n",
       "      <td>0.000000</td>\n",
       "      <td>1.000000</td>\n",
       "      <td>0.000000</td>\n",
       "    </tr>\n",
       "    <tr>\n",
       "      <th>50%</th>\n",
       "      <td>50001.500000</td>\n",
       "      <td>19703.000000</td>\n",
       "      <td>1.000000</td>\n",
       "      <td>165.000000</td>\n",
       "      <td>120.000000</td>\n",
       "      <td>80.000000</td>\n",
       "      <td>1.000000</td>\n",
       "      <td>1.000000</td>\n",
       "      <td>0.000000</td>\n",
       "      <td>0.000000</td>\n",
       "      <td>1.000000</td>\n",
       "      <td>0.000000</td>\n",
       "    </tr>\n",
       "    <tr>\n",
       "      <th>75%</th>\n",
       "      <td>74889.250000</td>\n",
       "      <td>21327.000000</td>\n",
       "      <td>2.000000</td>\n",
       "      <td>170.000000</td>\n",
       "      <td>140.000000</td>\n",
       "      <td>90.000000</td>\n",
       "      <td>2.000000</td>\n",
       "      <td>1.000000</td>\n",
       "      <td>0.000000</td>\n",
       "      <td>0.000000</td>\n",
       "      <td>1.000000</td>\n",
       "      <td>1.000000</td>\n",
       "    </tr>\n",
       "    <tr>\n",
       "      <th>max</th>\n",
       "      <td>99999.000000</td>\n",
       "      <td>23713.000000</td>\n",
       "      <td>2.000000</td>\n",
       "      <td>250.000000</td>\n",
       "      <td>16020.000000</td>\n",
       "      <td>11000.000000</td>\n",
       "      <td>3.000000</td>\n",
       "      <td>3.000000</td>\n",
       "      <td>1.000000</td>\n",
       "      <td>1.000000</td>\n",
       "      <td>1.000000</td>\n",
       "      <td>1.000000</td>\n",
       "    </tr>\n",
       "  </tbody>\n",
       "</table>\n",
       "</div>"
      ],
      "text/plain": [
       "                 id           age        gender        height         ap_hi  \\\n",
       "count  70000.000000  70000.000000  70000.000000  70000.000000  70000.000000   \n",
       "mean   49972.419900  19468.865814      1.349571    164.359229    128.817286   \n",
       "std    28851.302323   2467.251667      0.476838      8.210126    154.011419   \n",
       "min        0.000000  10798.000000      1.000000     55.000000   -150.000000   \n",
       "25%    25006.750000  17664.000000      1.000000    159.000000    120.000000   \n",
       "50%    50001.500000  19703.000000      1.000000    165.000000    120.000000   \n",
       "75%    74889.250000  21327.000000      2.000000    170.000000    140.000000   \n",
       "max    99999.000000  23713.000000      2.000000    250.000000  16020.000000   \n",
       "\n",
       "              ap_lo   cholesterol          gluc         smoke          alco  \\\n",
       "count  70000.000000  70000.000000  70000.000000  70000.000000  70000.000000   \n",
       "mean      96.630414      1.366871      1.226457      0.088129      0.053771   \n",
       "std      188.472530      0.680250      0.572270      0.283484      0.225568   \n",
       "min      -70.000000      1.000000      1.000000      0.000000      0.000000   \n",
       "25%       80.000000      1.000000      1.000000      0.000000      0.000000   \n",
       "50%       80.000000      1.000000      1.000000      0.000000      0.000000   \n",
       "75%       90.000000      2.000000      1.000000      0.000000      0.000000   \n",
       "max    11000.000000      3.000000      3.000000      1.000000      1.000000   \n",
       "\n",
       "             active        cardio  \n",
       "count  70000.000000  70000.000000  \n",
       "mean       0.803729      0.499700  \n",
       "std        0.397179      0.500003  \n",
       "min        0.000000      0.000000  \n",
       "25%        1.000000      0.000000  \n",
       "50%        1.000000      0.000000  \n",
       "75%        1.000000      1.000000  \n",
       "max        1.000000      1.000000  "
      ]
     },
     "execution_count": 88,
     "metadata": {},
     "output_type": "execute_result"
    }
   ],
   "source": [
    "cvdf.describe(include=['int64'])"
   ]
  },
  {
   "cell_type": "code",
   "execution_count": 89,
   "id": "2fc68a54",
   "metadata": {},
   "outputs": [],
   "source": [
    "'''\n",
    "#Plot the subplots of the Distribution of Discrete/Numeric Variables\n",
    "fig, axes = plt.subplots(1,5,figsize=(18,4))\n",
    "axes_flat = axes.flatten()\n",
    "fig.tight_layout(h_pad = 6, w_pad = 4, pad = 4)\n",
    "fig.suptitle(\"Distribution of some Discrete/Numeric Variables\", fontsize=18)\n",
    "\n",
    "for ax_idx, feat in enumerate(['age','height','weight','ap_hi','ap_lo']):\n",
    "    sns.histplot(data=cvdf, x=feat, element='bars', kde=True, ax=axes_flat[ax_idx])\n",
    "    axes_flat[ax_idx].tick_params(axis='x',labelrotation=60)\n",
    "''';"
   ]
  },
  {
   "cell_type": "markdown",
   "id": "a7d8aa06",
   "metadata": {},
   "source": [
    "We have information about the following:\n",
    "\n",
    " - Hypertensive crisis above 180/120\n",
    " - Hypotensive crisis below 90/60"
   ]
  },
  {
   "cell_type": "code",
   "execution_count": 90,
   "id": "5fe8c0b3",
   "metadata": {},
   "outputs": [
    {
     "data": {
      "text/plain": [
       "(690, 13)"
      ]
     },
     "execution_count": 90,
     "metadata": {},
     "output_type": "execute_result"
    }
   ],
   "source": [
    "cvdf[(cvdf['ap_hi']>180)|(cvdf['ap_hi']<90)].shape"
   ]
  },
  {
   "cell_type": "code",
   "execution_count": 91,
   "id": "ae6d7ae3",
   "metadata": {},
   "outputs": [
    {
     "data": {
      "text/plain": [
       "(1231, 13)"
      ]
     },
     "execution_count": 91,
     "metadata": {},
     "output_type": "execute_result"
    }
   ],
   "source": [
    "cvdf[(cvdf['ap_lo']>120)|(cvdf['ap_lo']<60)].shape"
   ]
  },
  {
   "cell_type": "code",
   "execution_count": 92,
   "id": "63fce6dd",
   "metadata": {},
   "outputs": [
    {
     "data": {
      "text/plain": [
       "1    437\n",
       "0    253\n",
       "Name: cardio, dtype: int64"
      ]
     },
     "execution_count": 92,
     "metadata": {},
     "output_type": "execute_result"
    }
   ],
   "source": [
    "cvdf[(cvdf['ap_hi']>180)|(cvdf['ap_hi']<90)]['cardio'].value_counts()"
   ]
  },
  {
   "cell_type": "code",
   "execution_count": 93,
   "id": "415e7f64",
   "metadata": {},
   "outputs": [
    {
     "data": {
      "text/plain": [
       "1    962\n",
       "0    269\n",
       "Name: cardio, dtype: int64"
      ]
     },
     "execution_count": 93,
     "metadata": {},
     "output_type": "execute_result"
    }
   ],
   "source": [
    "cvdf[(cvdf['ap_lo']>120)|(cvdf['ap_lo']<60)]['cardio'].value_counts()"
   ]
  },
  {
   "cell_type": "markdown",
   "id": "9b8a1087",
   "metadata": {},
   "source": [
    "From the above, we see that there are quite a few data points outside the 'pathological extremes'. Besides, some of  these observations even have the target variable as 0(i.e., no heart disease). This is clearly wrong.\n",
    "\n",
    "Since we have 70000 datapoints to start with and our goal is to train our model with minimally noisy data, it appears reasonable to drop these rows."
   ]
  },
  {
   "cell_type": "code",
   "execution_count": 94,
   "id": "6209b456",
   "metadata": {},
   "outputs": [],
   "source": [
    "#Drop all systolic values outside pathological extremes.\n",
    "cvdf_clean = cvdf[(cvdf['ap_hi']<=180)&(cvdf['ap_hi']>=90)]"
   ]
  },
  {
   "cell_type": "code",
   "execution_count": 95,
   "id": "b477b498",
   "metadata": {},
   "outputs": [
    {
     "data": {
      "text/plain": [
       "(69310, 13)"
      ]
     },
     "execution_count": 95,
     "metadata": {},
     "output_type": "execute_result"
    }
   ],
   "source": [
    "cvdf_clean.shape"
   ]
  },
  {
   "cell_type": "code",
   "execution_count": 96,
   "id": "be4e8e99",
   "metadata": {},
   "outputs": [],
   "source": [
    "#Drop all diastolic values outside pathological extremes.\n",
    "cvdf_clean = cvdf_clean[(cvdf_clean['ap_lo']<=120)&(cvdf_clean['ap_lo']>=60)]"
   ]
  },
  {
   "cell_type": "code",
   "execution_count": 97,
   "id": "b09c4722",
   "metadata": {},
   "outputs": [
    {
     "data": {
      "text/plain": [
       "(68205, 13)"
      ]
     },
     "execution_count": 97,
     "metadata": {},
     "output_type": "execute_result"
    }
   ],
   "source": [
    "cvdf_clean.shape"
   ]
  },
  {
   "cell_type": "markdown",
   "id": "4fafc31b",
   "metadata": {},
   "source": [
    "Now, let us plot the numeric values again."
   ]
  },
  {
   "cell_type": "code",
   "execution_count": 98,
   "id": "b380a56e",
   "metadata": {},
   "outputs": [
    {
     "data": {
      "image/png": "[encoded data removed]",
      "text/plain": [
       "<Figure size 1296x288 with 5 Axes>"
      ]
     },
     "metadata": {},
     "output_type": "display_data"
    }
   ],
   "source": [
    "#Plot the subplots of the Distribution of Discrete/Numeric Variables\n",
    "fig, axes = plt.subplots(1,5,figsize=(18,4))\n",
    "axes_flat = axes.flatten()\n",
    "fig.tight_layout(h_pad = 6, w_pad = 4, pad = 4)\n",
    "fig.suptitle(\"Distribution of some Discrete/Numeric Variables\", fontsize=18)\n",
    "\n",
    "for ax_idx, feat in enumerate(['age','height','weight','ap_hi','ap_lo']):\n",
    "    sns.histplot(data=cvdf_clean, x=feat, element='bars', kde=True, binwidth = 10, ax=axes_flat[ax_idx])\n",
    "    axes_flat[ax_idx].tick_params(axis='x',labelrotation=60)"
   ]
  },
  {
   "cell_type": "code",
   "execution_count": 99,
   "id": "eee204b8",
   "metadata": {},
   "outputs": [
    {
     "data": {
      "text/html": [
       "<div>\n",
       "<style scoped>\n",
       "    .dataframe tbody tr th:only-of-type {\n",
       "        vertical-align: middle;\n",
       "    }\n",
       "\n",
       "    .dataframe tbody tr th {\n",
       "        vertical-align: top;\n",
       "    }\n",
       "\n",
       "    .dataframe thead th {\n",
       "        text-align: right;\n",
       "    }\n",
       "</style>\n",
       "<table border=\"1\" class=\"dataframe\">\n",
       "  <thead>\n",
       "    <tr style=\"text-align: right;\">\n",
       "      <th></th>\n",
       "      <th>age</th>\n",
       "      <th>height</th>\n",
       "      <th>weight</th>\n",
       "      <th>ap_hi</th>\n",
       "      <th>ap_lo</th>\n",
       "    </tr>\n",
       "  </thead>\n",
       "  <tbody>\n",
       "    <tr>\n",
       "      <th>count</th>\n",
       "      <td>68205.000000</td>\n",
       "      <td>68205.000000</td>\n",
       "      <td>68205.000000</td>\n",
       "      <td>68205.000000</td>\n",
       "      <td>68205.000000</td>\n",
       "    </tr>\n",
       "    <tr>\n",
       "      <th>mean</th>\n",
       "      <td>19462.667737</td>\n",
       "      <td>164.372861</td>\n",
       "      <td>74.100688</td>\n",
       "      <td>126.434924</td>\n",
       "      <td>81.263925</td>\n",
       "    </tr>\n",
       "    <tr>\n",
       "      <th>std</th>\n",
       "      <td>2468.381854</td>\n",
       "      <td>8.176756</td>\n",
       "      <td>14.288862</td>\n",
       "      <td>15.961685</td>\n",
       "      <td>9.143985</td>\n",
       "    </tr>\n",
       "    <tr>\n",
       "      <th>min</th>\n",
       "      <td>10798.000000</td>\n",
       "      <td>55.000000</td>\n",
       "      <td>11.000000</td>\n",
       "      <td>90.000000</td>\n",
       "      <td>60.000000</td>\n",
       "    </tr>\n",
       "    <tr>\n",
       "      <th>25%</th>\n",
       "      <td>17656.000000</td>\n",
       "      <td>159.000000</td>\n",
       "      <td>65.000000</td>\n",
       "      <td>120.000000</td>\n",
       "      <td>80.000000</td>\n",
       "    </tr>\n",
       "    <tr>\n",
       "      <th>50%</th>\n",
       "      <td>19700.000000</td>\n",
       "      <td>165.000000</td>\n",
       "      <td>72.000000</td>\n",
       "      <td>120.000000</td>\n",
       "      <td>80.000000</td>\n",
       "    </tr>\n",
       "    <tr>\n",
       "      <th>75%</th>\n",
       "      <td>21323.000000</td>\n",
       "      <td>170.000000</td>\n",
       "      <td>82.000000</td>\n",
       "      <td>140.000000</td>\n",
       "      <td>90.000000</td>\n",
       "    </tr>\n",
       "    <tr>\n",
       "      <th>max</th>\n",
       "      <td>23713.000000</td>\n",
       "      <td>250.000000</td>\n",
       "      <td>200.000000</td>\n",
       "      <td>180.000000</td>\n",
       "      <td>120.000000</td>\n",
       "    </tr>\n",
       "  </tbody>\n",
       "</table>\n",
       "</div>"
      ],
      "text/plain": [
       "                age        height        weight         ap_hi         ap_lo\n",
       "count  68205.000000  68205.000000  68205.000000  68205.000000  68205.000000\n",
       "mean   19462.667737    164.372861     74.100688    126.434924     81.263925\n",
       "std     2468.381854      8.176756     14.288862     15.961685      9.143985\n",
       "min    10798.000000     55.000000     11.000000     90.000000     60.000000\n",
       "25%    17656.000000    159.000000     65.000000    120.000000     80.000000\n",
       "50%    19700.000000    165.000000     72.000000    120.000000     80.000000\n",
       "75%    21323.000000    170.000000     82.000000    140.000000     90.000000\n",
       "max    23713.000000    250.000000    200.000000    180.000000    120.000000"
      ]
     },
     "execution_count": 99,
     "metadata": {},
     "output_type": "execute_result"
    }
   ],
   "source": [
    "cvdf_clean[['age','height','weight','ap_hi','ap_lo']].describe()"
   ]
  },
  {
   "cell_type": "code",
   "execution_count": 100,
   "id": "8baadcab",
   "metadata": {},
   "outputs": [],
   "source": [
    "#The categorical values are already Ordinal or Binary Encoded as appropriate. So, we can easily fit a random forest\n",
    "#classifier without much ado.\n",
    "#1. Separate cvdf_clean into x and y.\n",
    "#2. Do a train_test_split to get x_train, x_test, y_train, y_test.\n",
    "#3. Create random-forest classifier.\n",
    "#4. Train using x_train and y_train.\n",
    "#5. Predict on x_test.\n",
    "#6. Evaluate the following: confusion_matrix, roc curve\n",
    "\n",
    "from sklearn.ensemble import RandomForestClassifier\n",
    "from sklearn.datasets import make_classification"
   ]
  },
  {
   "cell_type": "code",
   "execution_count": 101,
   "id": "c0510a5c",
   "metadata": {},
   "outputs": [],
   "source": [
    "import pandas as pd"
   ]
  },
  {
   "cell_type": "code",
   "execution_count": 102,
   "id": "4f42da1f",
   "metadata": {},
   "outputs": [
    {
     "data": {
      "text/html": [
       "<div>\n",
       "<style scoped>\n",
       "    .dataframe tbody tr th:only-of-type {\n",
       "        vertical-align: middle;\n",
       "    }\n",
       "\n",
       "    .dataframe tbody tr th {\n",
       "        vertical-align: top;\n",
       "    }\n",
       "\n",
       "    .dataframe thead th {\n",
       "        text-align: right;\n",
       "    }\n",
       "</style>\n",
       "<table border=\"1\" class=\"dataframe\">\n",
       "  <thead>\n",
       "    <tr style=\"text-align: right;\">\n",
       "      <th></th>\n",
       "      <th>id</th>\n",
       "      <th>age</th>\n",
       "      <th>gender</th>\n",
       "      <th>height</th>\n",
       "      <th>weight</th>\n",
       "      <th>ap_hi</th>\n",
       "      <th>ap_lo</th>\n",
       "      <th>cholesterol</th>\n",
       "      <th>gluc</th>\n",
       "      <th>smoke</th>\n",
       "      <th>alco</th>\n",
       "      <th>active</th>\n",
       "      <th>cardio</th>\n",
       "    </tr>\n",
       "  </thead>\n",
       "  <tbody>\n",
       "    <tr>\n",
       "      <th>0</th>\n",
       "      <td>0</td>\n",
       "      <td>18393</td>\n",
       "      <td>2</td>\n",
       "      <td>168</td>\n",
       "      <td>62.0</td>\n",
       "      <td>110</td>\n",
       "      <td>80</td>\n",
       "      <td>1</td>\n",
       "      <td>1</td>\n",
       "      <td>0</td>\n",
       "      <td>0</td>\n",
       "      <td>1</td>\n",
       "      <td>0</td>\n",
       "    </tr>\n",
       "    <tr>\n",
       "      <th>1</th>\n",
       "      <td>1</td>\n",
       "      <td>20228</td>\n",
       "      <td>1</td>\n",
       "      <td>156</td>\n",
       "      <td>85.0</td>\n",
       "      <td>140</td>\n",
       "      <td>90</td>\n",
       "      <td>3</td>\n",
       "      <td>1</td>\n",
       "      <td>0</td>\n",
       "      <td>0</td>\n",
       "      <td>1</td>\n",
       "      <td>1</td>\n",
       "    </tr>\n",
       "    <tr>\n",
       "      <th>2</th>\n",
       "      <td>2</td>\n",
       "      <td>18857</td>\n",
       "      <td>1</td>\n",
       "      <td>165</td>\n",
       "      <td>64.0</td>\n",
       "      <td>130</td>\n",
       "      <td>70</td>\n",
       "      <td>3</td>\n",
       "      <td>1</td>\n",
       "      <td>0</td>\n",
       "      <td>0</td>\n",
       "      <td>0</td>\n",
       "      <td>1</td>\n",
       "    </tr>\n",
       "    <tr>\n",
       "      <th>3</th>\n",
       "      <td>3</td>\n",
       "      <td>17623</td>\n",
       "      <td>2</td>\n",
       "      <td>169</td>\n",
       "      <td>82.0</td>\n",
       "      <td>150</td>\n",
       "      <td>100</td>\n",
       "      <td>1</td>\n",
       "      <td>1</td>\n",
       "      <td>0</td>\n",
       "      <td>0</td>\n",
       "      <td>1</td>\n",
       "      <td>1</td>\n",
       "    </tr>\n",
       "    <tr>\n",
       "      <th>4</th>\n",
       "      <td>4</td>\n",
       "      <td>17474</td>\n",
       "      <td>1</td>\n",
       "      <td>156</td>\n",
       "      <td>56.0</td>\n",
       "      <td>100</td>\n",
       "      <td>60</td>\n",
       "      <td>1</td>\n",
       "      <td>1</td>\n",
       "      <td>0</td>\n",
       "      <td>0</td>\n",
       "      <td>0</td>\n",
       "      <td>0</td>\n",
       "    </tr>\n",
       "    <tr>\n",
       "      <th>...</th>\n",
       "      <td>...</td>\n",
       "      <td>...</td>\n",
       "      <td>...</td>\n",
       "      <td>...</td>\n",
       "      <td>...</td>\n",
       "      <td>...</td>\n",
       "      <td>...</td>\n",
       "      <td>...</td>\n",
       "      <td>...</td>\n",
       "      <td>...</td>\n",
       "      <td>...</td>\n",
       "      <td>...</td>\n",
       "      <td>...</td>\n",
       "    </tr>\n",
       "    <tr>\n",
       "      <th>69995</th>\n",
       "      <td>99993</td>\n",
       "      <td>19240</td>\n",
       "      <td>2</td>\n",
       "      <td>168</td>\n",
       "      <td>76.0</td>\n",
       "      <td>120</td>\n",
       "      <td>80</td>\n",
       "      <td>1</td>\n",
       "      <td>1</td>\n",
       "      <td>1</td>\n",
       "      <td>0</td>\n",
       "      <td>1</td>\n",
       "      <td>0</td>\n",
       "    </tr>\n",
       "    <tr>\n",
       "      <th>69996</th>\n",
       "      <td>99995</td>\n",
       "      <td>22601</td>\n",
       "      <td>1</td>\n",
       "      <td>158</td>\n",
       "      <td>126.0</td>\n",
       "      <td>140</td>\n",
       "      <td>90</td>\n",
       "      <td>2</td>\n",
       "      <td>2</td>\n",
       "      <td>0</td>\n",
       "      <td>0</td>\n",
       "      <td>1</td>\n",
       "      <td>1</td>\n",
       "    </tr>\n",
       "    <tr>\n",
       "      <th>69997</th>\n",
       "      <td>99996</td>\n",
       "      <td>19066</td>\n",
       "      <td>2</td>\n",
       "      <td>183</td>\n",
       "      <td>105.0</td>\n",
       "      <td>180</td>\n",
       "      <td>90</td>\n",
       "      <td>3</td>\n",
       "      <td>1</td>\n",
       "      <td>0</td>\n",
       "      <td>1</td>\n",
       "      <td>0</td>\n",
       "      <td>1</td>\n",
       "    </tr>\n",
       "    <tr>\n",
       "      <th>69998</th>\n",
       "      <td>99998</td>\n",
       "      <td>22431</td>\n",
       "      <td>1</td>\n",
       "      <td>163</td>\n",
       "      <td>72.0</td>\n",
       "      <td>135</td>\n",
       "      <td>80</td>\n",
       "      <td>1</td>\n",
       "      <td>2</td>\n",
       "      <td>0</td>\n",
       "      <td>0</td>\n",
       "      <td>0</td>\n",
       "      <td>1</td>\n",
       "    </tr>\n",
       "    <tr>\n",
       "      <th>69999</th>\n",
       "      <td>99999</td>\n",
       "      <td>20540</td>\n",
       "      <td>1</td>\n",
       "      <td>170</td>\n",
       "      <td>72.0</td>\n",
       "      <td>120</td>\n",
       "      <td>80</td>\n",
       "      <td>2</td>\n",
       "      <td>1</td>\n",
       "      <td>0</td>\n",
       "      <td>0</td>\n",
       "      <td>1</td>\n",
       "      <td>0</td>\n",
       "    </tr>\n",
       "  </tbody>\n",
       "</table>\n",
       "<p>68205 rows × 13 columns</p>\n",
       "</div>"
      ],
      "text/plain": [
       "          id    age  gender  height  weight  ap_hi  ap_lo  cholesterol  gluc  \\\n",
       "0          0  18393       2     168    62.0    110     80            1     1   \n",
       "1          1  20228       1     156    85.0    140     90            3     1   \n",
       "2          2  18857       1     165    64.0    130     70            3     1   \n",
       "3          3  17623       2     169    82.0    150    100            1     1   \n",
       "4          4  17474       1     156    56.0    100     60            1     1   \n",
       "...      ...    ...     ...     ...     ...    ...    ...          ...   ...   \n",
       "69995  99993  19240       2     168    76.0    120     80            1     1   \n",
       "69996  99995  22601       1     158   126.0    140     90            2     2   \n",
       "69997  99996  19066       2     183   105.0    180     90            3     1   \n",
       "69998  99998  22431       1     163    72.0    135     80            1     2   \n",
       "69999  99999  20540       1     170    72.0    120     80            2     1   \n",
       "\n",
       "       smoke  alco  active  cardio  \n",
       "0          0     0       1       0  \n",
       "1          0     0       1       1  \n",
       "2          0     0       0       1  \n",
       "3          0     0       1       1  \n",
       "4          0     0       0       0  \n",
       "...      ...   ...     ...     ...  \n",
       "69995      1     0       1       0  \n",
       "69996      0     0       1       1  \n",
       "69997      0     1       0       1  \n",
       "69998      0     0       0       1  \n",
       "69999      0     0       1       0  \n",
       "\n",
       "[68205 rows x 13 columns]"
      ]
     },
     "execution_count": 102,
     "metadata": {},
     "output_type": "execute_result"
    }
   ],
   "source": [
    "cvdf_clean"
   ]
  },
  {
   "cell_type": "code",
   "execution_count": 107,
   "id": "4fd92a37",
   "metadata": {},
   "outputs": [
    {
     "data": {
      "text/html": [
       "<div>\n",
       "<style scoped>\n",
       "    .dataframe tbody tr th:only-of-type {\n",
       "        vertical-align: middle;\n",
       "    }\n",
       "\n",
       "    .dataframe tbody tr th {\n",
       "        vertical-align: top;\n",
       "    }\n",
       "\n",
       "    .dataframe thead th {\n",
       "        text-align: right;\n",
       "    }\n",
       "</style>\n",
       "<table border=\"1\" class=\"dataframe\">\n",
       "  <thead>\n",
       "    <tr style=\"text-align: right;\">\n",
       "      <th></th>\n",
       "      <th>age</th>\n",
       "      <th>height</th>\n",
       "      <th>weight</th>\n",
       "      <th>ap_hi</th>\n",
       "      <th>ap_lo</th>\n",
       "      <th>cholesterol</th>\n",
       "    </tr>\n",
       "  </thead>\n",
       "  <tbody>\n",
       "    <tr>\n",
       "      <th>count</th>\n",
       "      <td>68205.000000</td>\n",
       "      <td>68205.000000</td>\n",
       "      <td>68205.000000</td>\n",
       "      <td>68205.000000</td>\n",
       "      <td>68205.000000</td>\n",
       "      <td>68205.000000</td>\n",
       "    </tr>\n",
       "    <tr>\n",
       "      <th>mean</th>\n",
       "      <td>19462.667737</td>\n",
       "      <td>164.372861</td>\n",
       "      <td>74.100688</td>\n",
       "      <td>126.434924</td>\n",
       "      <td>81.263925</td>\n",
       "      <td>1.363243</td>\n",
       "    </tr>\n",
       "    <tr>\n",
       "      <th>std</th>\n",
       "      <td>2468.381854</td>\n",
       "      <td>8.176756</td>\n",
       "      <td>14.288862</td>\n",
       "      <td>15.961685</td>\n",
       "      <td>9.143985</td>\n",
       "      <td>0.678080</td>\n",
       "    </tr>\n",
       "    <tr>\n",
       "      <th>min</th>\n",
       "      <td>10798.000000</td>\n",
       "      <td>55.000000</td>\n",
       "      <td>11.000000</td>\n",
       "      <td>90.000000</td>\n",
       "      <td>60.000000</td>\n",
       "      <td>1.000000</td>\n",
       "    </tr>\n",
       "    <tr>\n",
       "      <th>25%</th>\n",
       "      <td>17656.000000</td>\n",
       "      <td>159.000000</td>\n",
       "      <td>65.000000</td>\n",
       "      <td>120.000000</td>\n",
       "      <td>80.000000</td>\n",
       "      <td>1.000000</td>\n",
       "    </tr>\n",
       "    <tr>\n",
       "      <th>50%</th>\n",
       "      <td>19700.000000</td>\n",
       "      <td>165.000000</td>\n",
       "      <td>72.000000</td>\n",
       "      <td>120.000000</td>\n",
       "      <td>80.000000</td>\n",
       "      <td>1.000000</td>\n",
       "    </tr>\n",
       "    <tr>\n",
       "      <th>75%</th>\n",
       "      <td>21323.000000</td>\n",
       "      <td>170.000000</td>\n",
       "      <td>82.000000</td>\n",
       "      <td>140.000000</td>\n",
       "      <td>90.000000</td>\n",
       "      <td>1.000000</td>\n",
       "    </tr>\n",
       "    <tr>\n",
       "      <th>max</th>\n",
       "      <td>23713.000000</td>\n",
       "      <td>250.000000</td>\n",
       "      <td>200.000000</td>\n",
       "      <td>180.000000</td>\n",
       "      <td>120.000000</td>\n",
       "      <td>3.000000</td>\n",
       "    </tr>\n",
       "  </tbody>\n",
       "</table>\n",
       "</div>"
      ],
      "text/plain": [
       "                age        height        weight         ap_hi         ap_lo  \\\n",
       "count  68205.000000  68205.000000  68205.000000  68205.000000  68205.000000   \n",
       "mean   19462.667737    164.372861     74.100688    126.434924     81.263925   \n",
       "std     2468.381854      8.176756     14.288862     15.961685      9.143985   \n",
       "min    10798.000000     55.000000     11.000000     90.000000     60.000000   \n",
       "25%    17656.000000    159.000000     65.000000    120.000000     80.000000   \n",
       "50%    19700.000000    165.000000     72.000000    120.000000     80.000000   \n",
       "75%    21323.000000    170.000000     82.000000    140.000000     90.000000   \n",
       "max    23713.000000    250.000000    200.000000    180.000000    120.000000   \n",
       "\n",
       "        cholesterol  \n",
       "count  68205.000000  \n",
       "mean       1.363243  \n",
       "std        0.678080  \n",
       "min        1.000000  \n",
       "25%        1.000000  \n",
       "50%        1.000000  \n",
       "75%        1.000000  \n",
       "max        3.000000  "
      ]
     },
     "execution_count": 107,
     "metadata": {},
     "output_type": "execute_result"
    }
   ],
   "source": [
    "#Using the wisdom from analysis(feature importances), we have done later in this notebook, the six important\n",
    "#features are: age, height, weight, ap_hi, ap_lo, cholesterol. We will use only these features to train our\n",
    "#classifier.\n",
    "X = cvdf_clean[['age','height','weight','ap_hi','ap_lo','cholesterol']]\n",
    "#X = cvdf.iloc[:,1:-1] #Skip the metadata column and the last target column.\n",
    "y = cvdf_clean.iloc[:,-1:]\n",
    "X.describe()"
   ]
  },
  {
   "cell_type": "code",
   "execution_count": 108,
   "id": "3e975ced",
   "metadata": {},
   "outputs": [
    {
     "data": {
      "text/html": [
       "<div>\n",
       "<style scoped>\n",
       "    .dataframe tbody tr th:only-of-type {\n",
       "        vertical-align: middle;\n",
       "    }\n",
       "\n",
       "    .dataframe tbody tr th {\n",
       "        vertical-align: top;\n",
       "    }\n",
       "\n",
       "    .dataframe thead th {\n",
       "        text-align: right;\n",
       "    }\n",
       "</style>\n",
       "<table border=\"1\" class=\"dataframe\">\n",
       "  <thead>\n",
       "    <tr style=\"text-align: right;\">\n",
       "      <th></th>\n",
       "      <th>cardio</th>\n",
       "    </tr>\n",
       "  </thead>\n",
       "  <tbody>\n",
       "    <tr>\n",
       "      <th>count</th>\n",
       "      <td>68205.000000</td>\n",
       "    </tr>\n",
       "    <tr>\n",
       "      <th>mean</th>\n",
       "      <td>0.493688</td>\n",
       "    </tr>\n",
       "    <tr>\n",
       "      <th>std</th>\n",
       "      <td>0.499964</td>\n",
       "    </tr>\n",
       "    <tr>\n",
       "      <th>min</th>\n",
       "      <td>0.000000</td>\n",
       "    </tr>\n",
       "    <tr>\n",
       "      <th>25%</th>\n",
       "      <td>0.000000</td>\n",
       "    </tr>\n",
       "    <tr>\n",
       "      <th>50%</th>\n",
       "      <td>0.000000</td>\n",
       "    </tr>\n",
       "    <tr>\n",
       "      <th>75%</th>\n",
       "      <td>1.000000</td>\n",
       "    </tr>\n",
       "    <tr>\n",
       "      <th>max</th>\n",
       "      <td>1.000000</td>\n",
       "    </tr>\n",
       "  </tbody>\n",
       "</table>\n",
       "</div>"
      ],
      "text/plain": [
       "             cardio\n",
       "count  68205.000000\n",
       "mean       0.493688\n",
       "std        0.499964\n",
       "min        0.000000\n",
       "25%        0.000000\n",
       "50%        0.000000\n",
       "75%        1.000000\n",
       "max        1.000000"
      ]
     },
     "execution_count": 108,
     "metadata": {},
     "output_type": "execute_result"
    }
   ],
   "source": [
    "y.describe()"
   ]
  },
  {
   "cell_type": "code",
   "execution_count": 121,
   "id": "29c4903b",
   "metadata": {},
   "outputs": [
    {
     "data": {
      "text/html": [
       "<div>\n",
       "<style scoped>\n",
       "    .dataframe tbody tr th:only-of-type {\n",
       "        vertical-align: middle;\n",
       "    }\n",
       "\n",
       "    .dataframe tbody tr th {\n",
       "        vertical-align: top;\n",
       "    }\n",
       "\n",
       "    .dataframe thead th {\n",
       "        text-align: right;\n",
       "    }\n",
       "</style>\n",
       "<table border=\"1\" class=\"dataframe\">\n",
       "  <thead>\n",
       "    <tr style=\"text-align: right;\">\n",
       "      <th></th>\n",
       "      <th>age</th>\n",
       "      <th>height</th>\n",
       "      <th>weight</th>\n",
       "      <th>ap_hi</th>\n",
       "      <th>ap_lo</th>\n",
       "      <th>cholesterol</th>\n",
       "    </tr>\n",
       "  </thead>\n",
       "  <tbody>\n",
       "    <tr>\n",
       "      <th>4611</th>\n",
       "      <td>21776</td>\n",
       "      <td>155</td>\n",
       "      <td>65.0</td>\n",
       "      <td>150</td>\n",
       "      <td>90</td>\n",
       "      <td>2</td>\n",
       "    </tr>\n",
       "    <tr>\n",
       "      <th>31816</th>\n",
       "      <td>19885</td>\n",
       "      <td>158</td>\n",
       "      <td>60.0</td>\n",
       "      <td>120</td>\n",
       "      <td>60</td>\n",
       "      <td>3</td>\n",
       "    </tr>\n",
       "    <tr>\n",
       "      <th>29382</th>\n",
       "      <td>18324</td>\n",
       "      <td>157</td>\n",
       "      <td>64.0</td>\n",
       "      <td>130</td>\n",
       "      <td>70</td>\n",
       "      <td>1</td>\n",
       "    </tr>\n",
       "    <tr>\n",
       "      <th>24413</th>\n",
       "      <td>21094</td>\n",
       "      <td>180</td>\n",
       "      <td>92.0</td>\n",
       "      <td>110</td>\n",
       "      <td>70</td>\n",
       "      <td>1</td>\n",
       "    </tr>\n",
       "    <tr>\n",
       "      <th>27631</th>\n",
       "      <td>20344</td>\n",
       "      <td>171</td>\n",
       "      <td>87.0</td>\n",
       "      <td>120</td>\n",
       "      <td>80</td>\n",
       "      <td>3</td>\n",
       "    </tr>\n",
       "    <tr>\n",
       "      <th>...</th>\n",
       "      <td>...</td>\n",
       "      <td>...</td>\n",
       "      <td>...</td>\n",
       "      <td>...</td>\n",
       "      <td>...</td>\n",
       "      <td>...</td>\n",
       "    </tr>\n",
       "    <tr>\n",
       "      <th>50399</th>\n",
       "      <td>18039</td>\n",
       "      <td>189</td>\n",
       "      <td>88.0</td>\n",
       "      <td>130</td>\n",
       "      <td>90</td>\n",
       "      <td>3</td>\n",
       "    </tr>\n",
       "    <tr>\n",
       "      <th>21162</th>\n",
       "      <td>20377</td>\n",
       "      <td>168</td>\n",
       "      <td>68.0</td>\n",
       "      <td>140</td>\n",
       "      <td>80</td>\n",
       "      <td>2</td>\n",
       "    </tr>\n",
       "    <tr>\n",
       "      <th>22012</th>\n",
       "      <td>20465</td>\n",
       "      <td>160</td>\n",
       "      <td>60.0</td>\n",
       "      <td>120</td>\n",
       "      <td>80</td>\n",
       "      <td>1</td>\n",
       "    </tr>\n",
       "    <tr>\n",
       "      <th>51377</th>\n",
       "      <td>21754</td>\n",
       "      <td>168</td>\n",
       "      <td>72.0</td>\n",
       "      <td>140</td>\n",
       "      <td>90</td>\n",
       "      <td>1</td>\n",
       "    </tr>\n",
       "    <tr>\n",
       "      <th>5332</th>\n",
       "      <td>16722</td>\n",
       "      <td>165</td>\n",
       "      <td>50.0</td>\n",
       "      <td>120</td>\n",
       "      <td>70</td>\n",
       "      <td>1</td>\n",
       "    </tr>\n",
       "  </tbody>\n",
       "</table>\n",
       "<p>45697 rows × 6 columns</p>\n",
       "</div>"
      ],
      "text/plain": [
       "         age  height  weight  ap_hi  ap_lo  cholesterol\n",
       "4611   21776     155    65.0    150     90            2\n",
       "31816  19885     158    60.0    120     60            3\n",
       "29382  18324     157    64.0    130     70            1\n",
       "24413  21094     180    92.0    110     70            1\n",
       "27631  20344     171    87.0    120     80            3\n",
       "...      ...     ...     ...    ...    ...          ...\n",
       "50399  18039     189    88.0    130     90            3\n",
       "21162  20377     168    68.0    140     80            2\n",
       "22012  20465     160    60.0    120     80            1\n",
       "51377  21754     168    72.0    140     90            1\n",
       "5332   16722     165    50.0    120     70            1\n",
       "\n",
       "[45697 rows x 6 columns]"
      ]
     },
     "execution_count": 121,
     "metadata": {},
     "output_type": "execute_result"
    }
   ],
   "source": [
    "#Split our data into training and test set\n",
    "#We stratify based on EDA of the data.\n",
    "from sklearn.model_selection import train_test_split\n",
    "\n",
    "X_train, X_test, y_train, y_test = train_test_split(X,y, test_size=0.33, random_state=1)\n",
    "X_train"
   ]
  },
  {
   "cell_type": "markdown",
   "id": "877fee8f",
   "metadata": {},
   "source": [
    "### Grid search CV to get the best parameters for Random Forest   \n",
    "Activate if necessary"
   ]
  },
  {
   "cell_type": "raw",
   "id": "aaccef95",
   "metadata": {},
   "source": [
    "from sklearn.model_selection import GridSearchCV\n",
    "from sklearn.ensemble import RandomForestClassifier\n",
    "\n",
    "rfc = RandomForestClassifier()\n",
    "\n",
    "parameters = {\n",
    "    \"criterion\":['gini','entropy'],\n",
    "    \"max_features\":[6,'auto'],\n",
    "    \"min_samples_split\":[50,75,100,150]\n",
    "}\n",
    "\n",
    "gridcv = GridSearchCV(rfc, parameters, cv = 5)\n",
    "gridcv.fit(X_train, y_train.values.ravel())"
   ]
  },
  {
   "cell_type": "raw",
   "id": "fe5cc0fe",
   "metadata": {},
   "source": [
    "print(gridcv.cv_results_['mean_test_score'])\n",
    "print(f'Best parameters are: {gridcv.best_params_}')"
   ]
  },
  {
   "cell_type": "raw",
   "id": "2c69d303",
   "metadata": {},
   "source": [
    "[0.72533049 0.72648188 0.72793177 0.72899787 0.7254371  0.72878465\n",
    " 0.72814499 0.72929638 0.72498934 0.7263113  0.72808102 0.72882729\n",
    " 0.72545842 0.72731343 0.72820896 0.72872068]\n",
    "Best parameters are: {'criterion': 'gini', 'max_features': 'auto', 'min_samples_split': 150}"
   ]
  },
  {
   "cell_type": "markdown",
   "id": "055b9d47",
   "metadata": {},
   "source": [
    "----------------\n",
    "**Create the classifier** based on hyperparameter values obtained from gridsearch. We do not see any significant improvement in accuracy across our hyperparameter sweep.\n",
    "\n",
    "-----------------"
   ]
  },
  {
   "cell_type": "code",
   "execution_count": 122,
   "id": "443e65f6",
   "metadata": {},
   "outputs": [
    {
     "data": {
      "text/plain": [
       "RandomForestClassifier(criterion='entropy', min_samples_split=150,\n",
       "                       n_estimators=200)"
      ]
     },
     "execution_count": 122,
     "metadata": {},
     "output_type": "execute_result"
    }
   ],
   "source": [
    "from sklearn.ensemble import RandomForestClassifier\n",
    "\n",
    "clf = RandomForestClassifier(criterion = 'entropy', n_estimators = 200, min_samples_leaf = 1, min_samples_split = 150)\n",
    "\n",
    "#Training the model on the training set.\n",
    "clf.fit(X_train, y_train.values.ravel())"
   ]
  },
  {
   "cell_type": "code",
   "execution_count": 123,
   "id": "9d8ac3a4",
   "metadata": {},
   "outputs": [
    {
     "data": {
      "text/html": [
       "<div>\n",
       "<style scoped>\n",
       "    .dataframe tbody tr th:only-of-type {\n",
       "        vertical-align: middle;\n",
       "    }\n",
       "\n",
       "    .dataframe tbody tr th {\n",
       "        vertical-align: top;\n",
       "    }\n",
       "\n",
       "    .dataframe thead th {\n",
       "        text-align: right;\n",
       "    }\n",
       "</style>\n",
       "<table border=\"1\" class=\"dataframe\">\n",
       "  <thead>\n",
       "    <tr style=\"text-align: right;\">\n",
       "      <th></th>\n",
       "      <th>age</th>\n",
       "      <th>height</th>\n",
       "      <th>weight</th>\n",
       "      <th>ap_hi</th>\n",
       "      <th>ap_lo</th>\n",
       "      <th>cholesterol</th>\n",
       "    </tr>\n",
       "  </thead>\n",
       "  <tbody>\n",
       "    <tr>\n",
       "      <th>4611</th>\n",
       "      <td>21776</td>\n",
       "      <td>155</td>\n",
       "      <td>65.0</td>\n",
       "      <td>150</td>\n",
       "      <td>90</td>\n",
       "      <td>2</td>\n",
       "    </tr>\n",
       "    <tr>\n",
       "      <th>31816</th>\n",
       "      <td>19885</td>\n",
       "      <td>158</td>\n",
       "      <td>60.0</td>\n",
       "      <td>120</td>\n",
       "      <td>60</td>\n",
       "      <td>3</td>\n",
       "    </tr>\n",
       "    <tr>\n",
       "      <th>29382</th>\n",
       "      <td>18324</td>\n",
       "      <td>157</td>\n",
       "      <td>64.0</td>\n",
       "      <td>130</td>\n",
       "      <td>70</td>\n",
       "      <td>1</td>\n",
       "    </tr>\n",
       "    <tr>\n",
       "      <th>24413</th>\n",
       "      <td>21094</td>\n",
       "      <td>180</td>\n",
       "      <td>92.0</td>\n",
       "      <td>110</td>\n",
       "      <td>70</td>\n",
       "      <td>1</td>\n",
       "    </tr>\n",
       "    <tr>\n",
       "      <th>27631</th>\n",
       "      <td>20344</td>\n",
       "      <td>171</td>\n",
       "      <td>87.0</td>\n",
       "      <td>120</td>\n",
       "      <td>80</td>\n",
       "      <td>3</td>\n",
       "    </tr>\n",
       "  </tbody>\n",
       "</table>\n",
       "</div>"
      ],
      "text/plain": [
       "         age  height  weight  ap_hi  ap_lo  cholesterol\n",
       "4611   21776     155    65.0    150     90            2\n",
       "31816  19885     158    60.0    120     60            3\n",
       "29382  18324     157    64.0    130     70            1\n",
       "24413  21094     180    92.0    110     70            1\n",
       "27631  20344     171    87.0    120     80            3"
      ]
     },
     "execution_count": 123,
     "metadata": {},
     "output_type": "execute_result"
    }
   ],
   "source": [
    "X_train.head()  #Note the sequence of features to give to the model.\n",
    "#It is height, weight, ap_hi, ap_lo, cholesterol"
   ]
  },
  {
   "cell_type": "code",
   "execution_count": 124,
   "id": "4f529324",
   "metadata": {},
   "outputs": [],
   "source": [
    "#Now we have trained the model, we are now going to serialize and pickle it.\n",
    "import pickle\n",
    "pickle.dump(clf,open(\"cardio_model_rf.pkl\",\"wb\"))\n",
    "#You can activate and deactivate this cell as and when needed."
   ]
  },
  {
   "cell_type": "code",
   "execution_count": 115,
   "id": "1a17d397",
   "metadata": {},
   "outputs": [
    {
     "data": {
      "text/plain": [
       "ap_hi          0.423345\n",
       "age            0.199363\n",
       "ap_lo          0.164523\n",
       "cholesterol    0.082575\n",
       "weight         0.075258\n",
       "height         0.054936\n",
       "dtype: float64"
      ]
     },
     "execution_count": 115,
     "metadata": {},
     "output_type": "execute_result"
    },
    {
     "data": {
      "image/png": "[encoded data removed]",
      "text/plain": [
       "<Figure size 432x288 with 1 Axes>"
      ]
     },
     "metadata": {},
     "output_type": "display_data"
    }
   ],
   "source": [
    "feat_imp = pd.Series(clf.feature_importances_, index = list(X_train)).sort_values(ascending = False)\n",
    "import matplotlib.pyplot as plt\n",
    "import seaborn as sns\n",
    "\n",
    "sns.barplot(x = feat_imp, y = feat_imp.index, label = 'Feature')\n",
    "plt.xlabel('Feature importance')\n",
    "plt.ylabel('Feature')\n",
    "plt.legend()\n",
    "feat_imp"
   ]
  },
  {
   "cell_type": "code",
   "execution_count": 116,
   "id": "fe59d3f9",
   "metadata": {},
   "outputs": [
    {
     "data": {
      "text/plain": [
       "Text(0.5, 1.0, 'Confusion Matrix')"
      ]
     },
     "execution_count": 116,
     "metadata": {},
     "output_type": "execute_result"
    },
    {
     "data": {
      "image/png": "[encoded data removed]",
      "text/plain": [
       "<Figure size 432x288 with 2 Axes>"
      ]
     },
     "metadata": {},
     "output_type": "display_data"
    }
   ],
   "source": [
    "#confusion matrix\n",
    "from sklearn import metrics\n",
    "#fig, ax = plt.subplots(1,1)\n",
    "#ax.grid(False)\n",
    "# DEPRECATED: metrics.plot_confusion_matrix(clf, X_test, y_test, labels = (1,0),  normalize = None)\n",
    "disp = metrics.ConfusionMatrixDisplay.from_estimator(clf, X_test, y_test, labels = (1,0), normalize = None, cmap='Blues')\n",
    "disp.ax_.grid(False)\n",
    "disp.ax_.set_title('Confusion Matrix')"
   ]
  },
  {
   "cell_type": "markdown",
   "id": "e521c127",
   "metadata": {},
   "source": [
    "## ROC Curve"
   ]
  },
  {
   "cell_type": "code",
   "execution_count": 117,
   "id": "2e1caa84",
   "metadata": {},
   "outputs": [
    {
     "data": {
      "text/plain": [
       "Text(0.5, 1.0, 'ROC Curve')"
      ]
     },
     "execution_count": 117,
     "metadata": {},
     "output_type": "execute_result"
    },
    {
     "data": {
      "image/png": "[encoded data removed]",
      "text/plain": [
       "<Figure size 432x288 with 1 Axes>"
      ]
     },
     "metadata": {},
     "output_type": "display_data"
    }
   ],
   "source": [
    "from sklearn.metrics import plot_roc_curve\n",
    "from sklearn.metrics import RocCurveDisplay\n",
    "import matplotlib.pyplot as plt\n",
    "#DEPRECATED:plot_roc_curve(clf, X_test, y_test)\n",
    "disp = RocCurveDisplay.from_estimator(clf, X_test, y_test)\n",
    "disp.ax_.grid(True)\n",
    "disp.ax_.set_title(\"ROC Curve\")\n",
    "#RocCurveDisplay.from_predictions(y_test,y_pred)\n"
   ]
  },
  {
   "cell_type": "markdown",
   "id": "7b8e92a7",
   "metadata": {},
   "source": [
    "## Precision-Recall Curve"
   ]
  },
  {
   "cell_type": "code",
   "execution_count": 118,
   "id": "5d86f737",
   "metadata": {},
   "outputs": [
    {
     "data": {
      "image/png": "[encoded data removed]",
      "text/plain": [
       "<Figure size 432x288 with 1 Axes>"
      ]
     },
     "metadata": {},
     "output_type": "display_data"
    }
   ],
   "source": [
    "from sklearn.metrics import precision_recall_curve, average_precision_score\n",
    "from sklearn.metrics import plot_precision_recall_curve\n",
    "\n",
    "y_score = clf.predict_proba(X_test)\n",
    "average_precision = average_precision_score(y_test, y_score[:,1])\n",
    "\n",
    "# DEPTRECATED: disp = plot_precision_recall_curve(clf, X_test, y_test)\n",
    "disp = metrics.PrecisionRecallDisplay.from_estimator(clf, X_test, y_test)\n",
    "\n",
    "disp.ax_.set_title('2-class precision recall curve: ' 'AP:{0:0.2f}'.format(average_precision))\n",
    "disp.ax_.grid(True)"
   ]
  },
  {
   "cell_type": "code",
   "execution_count": 119,
   "id": "f168d6c6",
   "metadata": {},
   "outputs": [
    {
     "data": {
      "text/plain": [
       "0.7310733961258219"
      ]
     },
     "execution_count": 119,
     "metadata": {},
     "output_type": "execute_result"
    }
   ],
   "source": [
    "#accuracy\n",
    "from sklearn.metrics import accuracy_score\n",
    "y_pred = clf.predict(X_test)\n",
    "accuracy_score(y_test,y_pred)"
   ]
  },
  {
   "cell_type": "code",
   "execution_count": 75,
   "id": "70de166a",
   "metadata": {},
   "outputs": [
    {
     "data": {
      "text/plain": [
       "array([0, 0, 0, 1, 0])"
      ]
     },
     "execution_count": 75,
     "metadata": {},
     "output_type": "execute_result"
    }
   ],
   "source": [
    "clf.predict(X_test.iloc[0:5,:])"
   ]
  },
  {
   "cell_type": "code",
   "execution_count": 76,
   "id": "6feb75b1",
   "metadata": {},
   "outputs": [
    {
     "data": {
      "text/plain": [
       "array([0, 0, 0, 1, 1])"
      ]
     },
     "execution_count": 76,
     "metadata": {},
     "output_type": "execute_result"
    }
   ],
   "source": [
    "y_test.iloc[0:5].values.ravel()"
   ]
  },
  {
   "cell_type": "code",
   "execution_count": null,
   "id": "ee0804b2",
   "metadata": {},
   "outputs": [],
   "source": []
  },
  {
   "cell_type": "code",
   "execution_count": null,
   "id": "ddb9be1d",
   "metadata": {},
   "outputs": [],
   "source": []
  }
 ],
 "metadata": {
  "kernelspec": {
   "display_name": "Python 3 (ipykernel)",
   "language": "python",
   "name": "python3"
  },
  "language_info": {
   "codemirror_mode": {
    "name": "ipython",
    "version": 3
   },
   "file_extension": ".py",
   "mimetype": "text/x-python",
   "name": "python",
   "nbconvert_exporter": "python",
   "pygments_lexer": "ipython3",
   "version": "3.8.5"
  }
 },
 "nbformat": 4,
 "nbformat_minor": 5
}
