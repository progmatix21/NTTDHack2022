{
 "cells": [
  {
   "cell_type": "markdown",
   "id": "56fe35e1",
   "metadata": {},
   "source": [
    "# NTT Data Hackathon 2022 (AI in Healthcare)[&#129109;](https://www.techgig.com/codegladiators/NTTDATA 'Link to Hackathon page')\n",
    "----------------------------------------\n",
    "## Participant: Atrij Talgery(team ATR21)\n",
    "### Notebook 1: Model training with diabetes data to predict onset of diabetes.\n",
    "#### Dataset attribution: \n",
    "> **Data source:** <https://www.kaggle.com/code/stpeteishii/predict-diabetes-and-visualize-importance/data>    \n",
    "  **License:** Not Specified  \n",
    "\n",
    "> `This dataset is originally from the National Institute of Diabetes and Digestive and Kidney Diseases. The objective of the dataset is to diagnostically predict whether or not a patient has diabetes, based on certain diagnostic measurements included in the dataset.`\n",
    "\n",
    "-------------\n",
    "This notebook is part of the solution for the hackathon theme: Early Disease Detection. In this notebook, we train a machine learning model (with diabetes incidence data) to predict possibility of a disease condition based on certain health parameters such as: glucose and systolic blood pressure, weight, bmi, etc. The model trained via this notebook is meant to be deployed as part of an application."
   ]
  },
  {
   "cell_type": "code",
   "execution_count": 2,
   "id": "07044a78",
   "metadata": {},
   "outputs": [],
   "source": [
    "#Import libraries\n",
    "import pandas as pd\n",
    "import numpy as np\n",
    "import matplotlib.pyplot as plt\n",
    "import seaborn as sns"
   ]
  },
  {
   "cell_type": "markdown",
   "id": "56ed0986",
   "metadata": {},
   "source": [
    "## Read and preprocess dataset"
   ]
  },
  {
   "cell_type": "code",
   "execution_count": 3,
   "id": "aead9aff",
   "metadata": {},
   "outputs": [],
   "source": [
    "diab_df = pd.read_csv('./Data/diabetes.csv', decimal = \",\")\n",
    "diab_df.replace(to_replace=\"male\", value=1, inplace = True)\n",
    "diab_df.replace(to_replace=\"female\", value=0, inplace = True)\n",
    "diab_df.replace(to_replace=\"Diabetes\", value=1, inplace = True)\n",
    "diab_df.replace(to_replace=\"No diabetes\", value=0, inplace=True)\n",
    "\n",
    "diab_df.drop(\"patient_number\", axis=1, inplace=True)\n"
   ]
  },
  {
   "cell_type": "markdown",
   "id": "43467f87",
   "metadata": {},
   "source": [
    "## Exploratory Data Analysis"
   ]
  },
  {
   "cell_type": "code",
   "execution_count": 4,
   "id": "b23b0ce3",
   "metadata": {},
   "outputs": [
    {
     "data": {
      "text/plain": [
       "(390, 15)"
      ]
     },
     "execution_count": 4,
     "metadata": {},
     "output_type": "execute_result"
    }
   ],
   "source": [
    "diab_df.shape"
   ]
  },
  {
   "cell_type": "code",
   "execution_count": 5,
   "id": "7c715803",
   "metadata": {},
   "outputs": [
    {
     "name": "stdout",
     "output_type": "stream",
     "text": [
      "<class 'pandas.core.frame.DataFrame'>\n",
      "RangeIndex: 390 entries, 0 to 389\n",
      "Data columns (total 15 columns):\n",
      " #   Column           Non-Null Count  Dtype  \n",
      "---  ------           --------------  -----  \n",
      " 0   cholesterol      390 non-null    int64  \n",
      " 1   glucose          390 non-null    int64  \n",
      " 2   hdl_chol         390 non-null    int64  \n",
      " 3   chol_hdl_ratio   390 non-null    float64\n",
      " 4   age              390 non-null    int64  \n",
      " 5   gender           390 non-null    int64  \n",
      " 6   height           390 non-null    int64  \n",
      " 7   weight           390 non-null    int64  \n",
      " 8   bmi              390 non-null    float64\n",
      " 9   systolic_bp      390 non-null    int64  \n",
      " 10  diastolic_bp     390 non-null    int64  \n",
      " 11  waist            390 non-null    int64  \n",
      " 12  hip              390 non-null    int64  \n",
      " 13  waist_hip_ratio  390 non-null    float64\n",
      " 14  diabetes         390 non-null    int64  \n",
      "dtypes: float64(3), int64(12)\n",
      "memory usage: 45.8 KB\n"
     ]
    }
   ],
   "source": [
    "diab_df.info()"
   ]
  },
  {
   "cell_type": "code",
   "execution_count": 6,
   "id": "ed1dc15c",
   "metadata": {},
   "outputs": [
    {
     "data": {
      "text/html": [
       "<div>\n",
       "<style scoped>\n",
       "    .dataframe tbody tr th:only-of-type {\n",
       "        vertical-align: middle;\n",
       "    }\n",
       "\n",
       "    .dataframe tbody tr th {\n",
       "        vertical-align: top;\n",
       "    }\n",
       "\n",
       "    .dataframe thead th {\n",
       "        text-align: right;\n",
       "    }\n",
       "</style>\n",
       "<table border=\"1\" class=\"dataframe\">\n",
       "  <thead>\n",
       "    <tr style=\"text-align: right;\">\n",
       "      <th></th>\n",
       "      <th>cholesterol</th>\n",
       "      <th>glucose</th>\n",
       "      <th>hdl_chol</th>\n",
       "      <th>chol_hdl_ratio</th>\n",
       "      <th>age</th>\n",
       "      <th>gender</th>\n",
       "      <th>height</th>\n",
       "      <th>weight</th>\n",
       "      <th>bmi</th>\n",
       "      <th>systolic_bp</th>\n",
       "      <th>diastolic_bp</th>\n",
       "      <th>waist</th>\n",
       "      <th>hip</th>\n",
       "      <th>waist_hip_ratio</th>\n",
       "      <th>diabetes</th>\n",
       "    </tr>\n",
       "  </thead>\n",
       "  <tbody>\n",
       "    <tr>\n",
       "      <th>count</th>\n",
       "      <td>390.000000</td>\n",
       "      <td>390.000000</td>\n",
       "      <td>390.000000</td>\n",
       "      <td>390.000000</td>\n",
       "      <td>390.000000</td>\n",
       "      <td>390.000000</td>\n",
       "      <td>390.000000</td>\n",
       "      <td>390.000000</td>\n",
       "      <td>390.000000</td>\n",
       "      <td>390.000000</td>\n",
       "      <td>390.000000</td>\n",
       "      <td>390.000000</td>\n",
       "      <td>390.000000</td>\n",
       "      <td>390.000000</td>\n",
       "      <td>390.000000</td>\n",
       "    </tr>\n",
       "    <tr>\n",
       "      <th>mean</th>\n",
       "      <td>207.230769</td>\n",
       "      <td>107.338462</td>\n",
       "      <td>50.266667</td>\n",
       "      <td>4.524615</td>\n",
       "      <td>46.774359</td>\n",
       "      <td>0.415385</td>\n",
       "      <td>65.951282</td>\n",
       "      <td>177.407692</td>\n",
       "      <td>28.775641</td>\n",
       "      <td>137.133333</td>\n",
       "      <td>83.289744</td>\n",
       "      <td>37.869231</td>\n",
       "      <td>42.992308</td>\n",
       "      <td>0.881385</td>\n",
       "      <td>0.153846</td>\n",
       "    </tr>\n",
       "    <tr>\n",
       "      <th>std</th>\n",
       "      <td>44.666005</td>\n",
       "      <td>53.798188</td>\n",
       "      <td>17.279069</td>\n",
       "      <td>1.736634</td>\n",
       "      <td>16.435911</td>\n",
       "      <td>0.493421</td>\n",
       "      <td>3.918867</td>\n",
       "      <td>40.407824</td>\n",
       "      <td>6.600915</td>\n",
       "      <td>22.859528</td>\n",
       "      <td>13.498192</td>\n",
       "      <td>5.760947</td>\n",
       "      <td>5.664342</td>\n",
       "      <td>0.073212</td>\n",
       "      <td>0.361265</td>\n",
       "    </tr>\n",
       "    <tr>\n",
       "      <th>min</th>\n",
       "      <td>78.000000</td>\n",
       "      <td>48.000000</td>\n",
       "      <td>12.000000</td>\n",
       "      <td>1.500000</td>\n",
       "      <td>19.000000</td>\n",
       "      <td>0.000000</td>\n",
       "      <td>52.000000</td>\n",
       "      <td>99.000000</td>\n",
       "      <td>15.200000</td>\n",
       "      <td>90.000000</td>\n",
       "      <td>48.000000</td>\n",
       "      <td>26.000000</td>\n",
       "      <td>30.000000</td>\n",
       "      <td>0.680000</td>\n",
       "      <td>0.000000</td>\n",
       "    </tr>\n",
       "    <tr>\n",
       "      <th>25%</th>\n",
       "      <td>179.000000</td>\n",
       "      <td>81.000000</td>\n",
       "      <td>38.000000</td>\n",
       "      <td>3.200000</td>\n",
       "      <td>34.000000</td>\n",
       "      <td>0.000000</td>\n",
       "      <td>63.000000</td>\n",
       "      <td>150.250000</td>\n",
       "      <td>24.100000</td>\n",
       "      <td>122.000000</td>\n",
       "      <td>75.000000</td>\n",
       "      <td>33.000000</td>\n",
       "      <td>39.000000</td>\n",
       "      <td>0.830000</td>\n",
       "      <td>0.000000</td>\n",
       "    </tr>\n",
       "    <tr>\n",
       "      <th>50%</th>\n",
       "      <td>203.000000</td>\n",
       "      <td>90.000000</td>\n",
       "      <td>46.000000</td>\n",
       "      <td>4.200000</td>\n",
       "      <td>44.500000</td>\n",
       "      <td>0.000000</td>\n",
       "      <td>66.000000</td>\n",
       "      <td>173.000000</td>\n",
       "      <td>27.800000</td>\n",
       "      <td>136.000000</td>\n",
       "      <td>82.000000</td>\n",
       "      <td>37.000000</td>\n",
       "      <td>42.000000</td>\n",
       "      <td>0.880000</td>\n",
       "      <td>0.000000</td>\n",
       "    </tr>\n",
       "    <tr>\n",
       "      <th>75%</th>\n",
       "      <td>229.000000</td>\n",
       "      <td>107.750000</td>\n",
       "      <td>59.000000</td>\n",
       "      <td>5.400000</td>\n",
       "      <td>60.000000</td>\n",
       "      <td>1.000000</td>\n",
       "      <td>69.000000</td>\n",
       "      <td>200.000000</td>\n",
       "      <td>32.275000</td>\n",
       "      <td>148.000000</td>\n",
       "      <td>90.000000</td>\n",
       "      <td>41.000000</td>\n",
       "      <td>46.000000</td>\n",
       "      <td>0.930000</td>\n",
       "      <td>0.000000</td>\n",
       "    </tr>\n",
       "    <tr>\n",
       "      <th>max</th>\n",
       "      <td>443.000000</td>\n",
       "      <td>385.000000</td>\n",
       "      <td>120.000000</td>\n",
       "      <td>19.300000</td>\n",
       "      <td>92.000000</td>\n",
       "      <td>1.000000</td>\n",
       "      <td>76.000000</td>\n",
       "      <td>325.000000</td>\n",
       "      <td>55.800000</td>\n",
       "      <td>250.000000</td>\n",
       "      <td>124.000000</td>\n",
       "      <td>56.000000</td>\n",
       "      <td>64.000000</td>\n",
       "      <td>1.140000</td>\n",
       "      <td>1.000000</td>\n",
       "    </tr>\n",
       "  </tbody>\n",
       "</table>\n",
       "</div>"
      ],
      "text/plain": [
       "       cholesterol     glucose    hdl_chol  chol_hdl_ratio         age  \\\n",
       "count   390.000000  390.000000  390.000000      390.000000  390.000000   \n",
       "mean    207.230769  107.338462   50.266667        4.524615   46.774359   \n",
       "std      44.666005   53.798188   17.279069        1.736634   16.435911   \n",
       "min      78.000000   48.000000   12.000000        1.500000   19.000000   \n",
       "25%     179.000000   81.000000   38.000000        3.200000   34.000000   \n",
       "50%     203.000000   90.000000   46.000000        4.200000   44.500000   \n",
       "75%     229.000000  107.750000   59.000000        5.400000   60.000000   \n",
       "max     443.000000  385.000000  120.000000       19.300000   92.000000   \n",
       "\n",
       "           gender      height      weight         bmi  systolic_bp  \\\n",
       "count  390.000000  390.000000  390.000000  390.000000   390.000000   \n",
       "mean     0.415385   65.951282  177.407692   28.775641   137.133333   \n",
       "std      0.493421    3.918867   40.407824    6.600915    22.859528   \n",
       "min      0.000000   52.000000   99.000000   15.200000    90.000000   \n",
       "25%      0.000000   63.000000  150.250000   24.100000   122.000000   \n",
       "50%      0.000000   66.000000  173.000000   27.800000   136.000000   \n",
       "75%      1.000000   69.000000  200.000000   32.275000   148.000000   \n",
       "max      1.000000   76.000000  325.000000   55.800000   250.000000   \n",
       "\n",
       "       diastolic_bp       waist         hip  waist_hip_ratio    diabetes  \n",
       "count    390.000000  390.000000  390.000000       390.000000  390.000000  \n",
       "mean      83.289744   37.869231   42.992308         0.881385    0.153846  \n",
       "std       13.498192    5.760947    5.664342         0.073212    0.361265  \n",
       "min       48.000000   26.000000   30.000000         0.680000    0.000000  \n",
       "25%       75.000000   33.000000   39.000000         0.830000    0.000000  \n",
       "50%       82.000000   37.000000   42.000000         0.880000    0.000000  \n",
       "75%       90.000000   41.000000   46.000000         0.930000    0.000000  \n",
       "max      124.000000   56.000000   64.000000         1.140000    1.000000  "
      ]
     },
     "execution_count": 6,
     "metadata": {},
     "output_type": "execute_result"
    }
   ],
   "source": [
    "diab_df.describe()   #There are no missing values"
   ]
  },
  {
   "cell_type": "code",
   "execution_count": 7,
   "id": "fc377698",
   "metadata": {},
   "outputs": [
    {
     "data": {
      "text/html": [
       "<div>\n",
       "<style scoped>\n",
       "    .dataframe tbody tr th:only-of-type {\n",
       "        vertical-align: middle;\n",
       "    }\n",
       "\n",
       "    .dataframe tbody tr th {\n",
       "        vertical-align: top;\n",
       "    }\n",
       "\n",
       "    .dataframe thead th {\n",
       "        text-align: right;\n",
       "    }\n",
       "</style>\n",
       "<table border=\"1\" class=\"dataframe\">\n",
       "  <thead>\n",
       "    <tr style=\"text-align: right;\">\n",
       "      <th></th>\n",
       "      <th>cholesterol</th>\n",
       "      <th>glucose</th>\n",
       "      <th>hdl_chol</th>\n",
       "      <th>chol_hdl_ratio</th>\n",
       "      <th>age</th>\n",
       "      <th>gender</th>\n",
       "      <th>height</th>\n",
       "      <th>weight</th>\n",
       "      <th>bmi</th>\n",
       "      <th>systolic_bp</th>\n",
       "      <th>diastolic_bp</th>\n",
       "      <th>waist</th>\n",
       "      <th>hip</th>\n",
       "      <th>waist_hip_ratio</th>\n",
       "      <th>diabetes</th>\n",
       "    </tr>\n",
       "  </thead>\n",
       "  <tbody>\n",
       "    <tr>\n",
       "      <th>0</th>\n",
       "      <td>193</td>\n",
       "      <td>77</td>\n",
       "      <td>49</td>\n",
       "      <td>3.9</td>\n",
       "      <td>19</td>\n",
       "      <td>0</td>\n",
       "      <td>61</td>\n",
       "      <td>119</td>\n",
       "      <td>22.5</td>\n",
       "      <td>118</td>\n",
       "      <td>70</td>\n",
       "      <td>32</td>\n",
       "      <td>38</td>\n",
       "      <td>0.84</td>\n",
       "      <td>0</td>\n",
       "    </tr>\n",
       "    <tr>\n",
       "      <th>1</th>\n",
       "      <td>146</td>\n",
       "      <td>79</td>\n",
       "      <td>41</td>\n",
       "      <td>3.6</td>\n",
       "      <td>19</td>\n",
       "      <td>0</td>\n",
       "      <td>60</td>\n",
       "      <td>135</td>\n",
       "      <td>26.4</td>\n",
       "      <td>108</td>\n",
       "      <td>58</td>\n",
       "      <td>33</td>\n",
       "      <td>40</td>\n",
       "      <td>0.83</td>\n",
       "      <td>0</td>\n",
       "    </tr>\n",
       "    <tr>\n",
       "      <th>2</th>\n",
       "      <td>217</td>\n",
       "      <td>75</td>\n",
       "      <td>54</td>\n",
       "      <td>4.0</td>\n",
       "      <td>20</td>\n",
       "      <td>0</td>\n",
       "      <td>67</td>\n",
       "      <td>187</td>\n",
       "      <td>29.3</td>\n",
       "      <td>110</td>\n",
       "      <td>72</td>\n",
       "      <td>40</td>\n",
       "      <td>45</td>\n",
       "      <td>0.89</td>\n",
       "      <td>0</td>\n",
       "    </tr>\n",
       "    <tr>\n",
       "      <th>3</th>\n",
       "      <td>226</td>\n",
       "      <td>97</td>\n",
       "      <td>70</td>\n",
       "      <td>3.2</td>\n",
       "      <td>20</td>\n",
       "      <td>0</td>\n",
       "      <td>64</td>\n",
       "      <td>114</td>\n",
       "      <td>19.6</td>\n",
       "      <td>122</td>\n",
       "      <td>64</td>\n",
       "      <td>31</td>\n",
       "      <td>39</td>\n",
       "      <td>0.79</td>\n",
       "      <td>0</td>\n",
       "    </tr>\n",
       "    <tr>\n",
       "      <th>4</th>\n",
       "      <td>164</td>\n",
       "      <td>91</td>\n",
       "      <td>67</td>\n",
       "      <td>2.4</td>\n",
       "      <td>20</td>\n",
       "      <td>0</td>\n",
       "      <td>70</td>\n",
       "      <td>141</td>\n",
       "      <td>20.2</td>\n",
       "      <td>122</td>\n",
       "      <td>86</td>\n",
       "      <td>32</td>\n",
       "      <td>39</td>\n",
       "      <td>0.82</td>\n",
       "      <td>0</td>\n",
       "    </tr>\n",
       "  </tbody>\n",
       "</table>\n",
       "</div>"
      ],
      "text/plain": [
       "   cholesterol  glucose  hdl_chol  chol_hdl_ratio  age  gender  height  \\\n",
       "0          193       77        49             3.9   19       0      61   \n",
       "1          146       79        41             3.6   19       0      60   \n",
       "2          217       75        54             4.0   20       0      67   \n",
       "3          226       97        70             3.2   20       0      64   \n",
       "4          164       91        67             2.4   20       0      70   \n",
       "\n",
       "   weight   bmi  systolic_bp  diastolic_bp  waist  hip  waist_hip_ratio  \\\n",
       "0     119  22.5          118            70     32   38             0.84   \n",
       "1     135  26.4          108            58     33   40             0.83   \n",
       "2     187  29.3          110            72     40   45             0.89   \n",
       "3     114  19.6          122            64     31   39             0.79   \n",
       "4     141  20.2          122            86     32   39             0.82   \n",
       "\n",
       "   diabetes  \n",
       "0         0  \n",
       "1         0  \n",
       "2         0  \n",
       "3         0  \n",
       "4         0  "
      ]
     },
     "execution_count": 7,
     "metadata": {},
     "output_type": "execute_result"
    }
   ],
   "source": [
    "diab_df.head()"
   ]
  },
  {
   "cell_type": "code",
   "execution_count": 8,
   "id": "9aa5fffd",
   "metadata": {},
   "outputs": [
    {
     "data": {
      "text/plain": [
       "<AxesSubplot:xlabel='diabetes', ylabel='count'>"
      ]
     },
     "execution_count": 8,
     "metadata": {},
     "output_type": "execute_result"
    },
    {
     "data": {
      "image/png": "[encoded data removed]",
      "text/plain": [
       "<Figure size 432x288 with 1 Axes>"
      ]
     },
     "metadata": {
      "needs_background": "light"
     },
     "output_type": "display_data"
    }
   ],
   "source": [
    "sns.countplot(x = diab_df['diabetes'])"
   ]
  },
  {
   "cell_type": "markdown",
   "id": "0ea61bd7",
   "metadata": {},
   "source": [
    "This appears to be an imbalanced dataset. Let us make a pairplot for a quick look at univariate distributions and bivariate scatter."
   ]
  },
  {
   "cell_type": "code",
   "execution_count": 9,
   "id": "f8b2b81e",
   "metadata": {},
   "outputs": [
    {
     "data": {
      "text/plain": [
       "0    330\n",
       "1     60\n",
       "Name: diabetes, dtype: int64"
      ]
     },
     "execution_count": 9,
     "metadata": {},
     "output_type": "execute_result"
    }
   ],
   "source": [
    "diab_df['diabetes'].value_counts()"
   ]
  },
  {
   "cell_type": "code",
   "execution_count": 10,
   "id": "f43c2ccf",
   "metadata": {},
   "outputs": [],
   "source": [
    "'''sns.pairplot(diab_df, hue='diabetes')''';"
   ]
  },
  {
   "cell_type": "markdown",
   "id": "613ab96a",
   "metadata": {},
   "source": [
    "## Feature Selection\n",
    "We have already encoded the data while reading it in, hence there is no separate data encoding step. We will instead fit a random forest classifier only for the purpose of understanding feature importance. "
   ]
  },
  {
   "cell_type": "code",
   "execution_count": 11,
   "id": "e9ff8647",
   "metadata": {},
   "outputs": [],
   "source": [
    "from sklearn.ensemble import RandomForestClassifier\n",
    "\n",
    "X = diab_df.drop(['diabetes'], axis = 1)\n",
    "y = diab_df['diabetes']"
   ]
  },
  {
   "cell_type": "code",
   "execution_count": 12,
   "id": "42d0a2d0",
   "metadata": {},
   "outputs": [
    {
     "data": {
      "text/html": [
       "<div>\n",
       "<style scoped>\n",
       "    .dataframe tbody tr th:only-of-type {\n",
       "        vertical-align: middle;\n",
       "    }\n",
       "\n",
       "    .dataframe tbody tr th {\n",
       "        vertical-align: top;\n",
       "    }\n",
       "\n",
       "    .dataframe thead th {\n",
       "        text-align: right;\n",
       "    }\n",
       "</style>\n",
       "<table border=\"1\" class=\"dataframe\">\n",
       "  <thead>\n",
       "    <tr style=\"text-align: right;\">\n",
       "      <th></th>\n",
       "      <th>cholesterol</th>\n",
       "      <th>glucose</th>\n",
       "      <th>hdl_chol</th>\n",
       "      <th>chol_hdl_ratio</th>\n",
       "      <th>age</th>\n",
       "      <th>gender</th>\n",
       "      <th>height</th>\n",
       "      <th>weight</th>\n",
       "      <th>bmi</th>\n",
       "      <th>systolic_bp</th>\n",
       "      <th>diastolic_bp</th>\n",
       "      <th>waist</th>\n",
       "      <th>hip</th>\n",
       "      <th>waist_hip_ratio</th>\n",
       "    </tr>\n",
       "  </thead>\n",
       "  <tbody>\n",
       "    <tr>\n",
       "      <th>0</th>\n",
       "      <td>193</td>\n",
       "      <td>77</td>\n",
       "      <td>49</td>\n",
       "      <td>3.9</td>\n",
       "      <td>19</td>\n",
       "      <td>0</td>\n",
       "      <td>61</td>\n",
       "      <td>119</td>\n",
       "      <td>22.5</td>\n",
       "      <td>118</td>\n",
       "      <td>70</td>\n",
       "      <td>32</td>\n",
       "      <td>38</td>\n",
       "      <td>0.84</td>\n",
       "    </tr>\n",
       "    <tr>\n",
       "      <th>1</th>\n",
       "      <td>146</td>\n",
       "      <td>79</td>\n",
       "      <td>41</td>\n",
       "      <td>3.6</td>\n",
       "      <td>19</td>\n",
       "      <td>0</td>\n",
       "      <td>60</td>\n",
       "      <td>135</td>\n",
       "      <td>26.4</td>\n",
       "      <td>108</td>\n",
       "      <td>58</td>\n",
       "      <td>33</td>\n",
       "      <td>40</td>\n",
       "      <td>0.83</td>\n",
       "    </tr>\n",
       "    <tr>\n",
       "      <th>2</th>\n",
       "      <td>217</td>\n",
       "      <td>75</td>\n",
       "      <td>54</td>\n",
       "      <td>4.0</td>\n",
       "      <td>20</td>\n",
       "      <td>0</td>\n",
       "      <td>67</td>\n",
       "      <td>187</td>\n",
       "      <td>29.3</td>\n",
       "      <td>110</td>\n",
       "      <td>72</td>\n",
       "      <td>40</td>\n",
       "      <td>45</td>\n",
       "      <td>0.89</td>\n",
       "    </tr>\n",
       "    <tr>\n",
       "      <th>3</th>\n",
       "      <td>226</td>\n",
       "      <td>97</td>\n",
       "      <td>70</td>\n",
       "      <td>3.2</td>\n",
       "      <td>20</td>\n",
       "      <td>0</td>\n",
       "      <td>64</td>\n",
       "      <td>114</td>\n",
       "      <td>19.6</td>\n",
       "      <td>122</td>\n",
       "      <td>64</td>\n",
       "      <td>31</td>\n",
       "      <td>39</td>\n",
       "      <td>0.79</td>\n",
       "    </tr>\n",
       "    <tr>\n",
       "      <th>4</th>\n",
       "      <td>164</td>\n",
       "      <td>91</td>\n",
       "      <td>67</td>\n",
       "      <td>2.4</td>\n",
       "      <td>20</td>\n",
       "      <td>0</td>\n",
       "      <td>70</td>\n",
       "      <td>141</td>\n",
       "      <td>20.2</td>\n",
       "      <td>122</td>\n",
       "      <td>86</td>\n",
       "      <td>32</td>\n",
       "      <td>39</td>\n",
       "      <td>0.82</td>\n",
       "    </tr>\n",
       "  </tbody>\n",
       "</table>\n",
       "</div>"
      ],
      "text/plain": [
       "   cholesterol  glucose  hdl_chol  chol_hdl_ratio  age  gender  height  \\\n",
       "0          193       77        49             3.9   19       0      61   \n",
       "1          146       79        41             3.6   19       0      60   \n",
       "2          217       75        54             4.0   20       0      67   \n",
       "3          226       97        70             3.2   20       0      64   \n",
       "4          164       91        67             2.4   20       0      70   \n",
       "\n",
       "   weight   bmi  systolic_bp  diastolic_bp  waist  hip  waist_hip_ratio  \n",
       "0     119  22.5          118            70     32   38             0.84  \n",
       "1     135  26.4          108            58     33   40             0.83  \n",
       "2     187  29.3          110            72     40   45             0.89  \n",
       "3     114  19.6          122            64     31   39             0.79  \n",
       "4     141  20.2          122            86     32   39             0.82  "
      ]
     },
     "execution_count": 12,
     "metadata": {},
     "output_type": "execute_result"
    }
   ],
   "source": [
    "X.head()"
   ]
  },
  {
   "cell_type": "code",
   "execution_count": 13,
   "id": "5a2391ea",
   "metadata": {},
   "outputs": [
    {
     "data": {
      "text/plain": [
       "array([0, 0, 0, 0, 0])"
      ]
     },
     "execution_count": 13,
     "metadata": {},
     "output_type": "execute_result"
    }
   ],
   "source": [
    "y.head().values"
   ]
  },
  {
   "cell_type": "code",
   "execution_count": 152,
   "id": "2e06617e",
   "metadata": {},
   "outputs": [
    {
     "data": {
      "text/plain": [
       "RandomForestClassifier(criterion='entropy', min_samples_split=10)"
      ]
     },
     "execution_count": 152,
     "metadata": {},
     "output_type": "execute_result"
    }
   ],
   "source": [
    "clf = RandomForestClassifier(criterion = 'entropy',min_samples_split = 10)  #Rest all parameters at defaults\n",
    "clf.fit(X, y.values)"
   ]
  },
  {
   "cell_type": "code",
   "execution_count": 153,
   "id": "0f8f21af",
   "metadata": {},
   "outputs": [
    {
     "name": "stdout",
     "output_type": "stream",
     "text": [
      "['glucose', 'age', 'chol_hdl_ratio', 'cholesterol', 'systolic_bp', 'bmi', 'weight', 'waist_hip_ratio', 'waist', 'hdl_chol', 'hip', 'diastolic_bp', 'height', 'gender']\n"
     ]
    }
   ],
   "source": [
    "feat_imp = pd.Series(clf.feature_importances_, index = list(X)).sort_values(ascending = False)\n",
    "print(list(feat_imp.index))"
   ]
  },
  {
   "cell_type": "markdown",
   "id": "06c35ff7",
   "metadata": {},
   "source": [
    "with gini ['glucose', 'age', 'systolic_bp', 'cholesterol', 'chol_hdl_ratio', 'bmi', 'weight', 'waist_hip_ratio', 'waist', 'hdl_chol', 'hip', 'diastolic_bp', 'height', 'gender']   \n",
    "**We use the entropy criterion as it is much more suitable for imbalanced datasets such as this one.**"
   ]
  },
  {
   "cell_type": "code",
   "execution_count": 155,
   "id": "fc352820",
   "metadata": {},
   "outputs": [
    {
     "data": {
      "text/plain": [
       "<matplotlib.legend.Legend at 0x7fe922d07e50>"
      ]
     },
     "execution_count": 155,
     "metadata": {},
     "output_type": "execute_result"
    },
    {
     "data": {
      "image/png": "[encoded data removed]",
      "text/plain": [
       "<Figure size 432x288 with 1 Axes>"
      ]
     },
     "metadata": {
      "needs_background": "light"
     },
     "output_type": "display_data"
    }
   ],
   "source": [
    "sns.barplot(x = feat_imp, y = feat_imp.index, label = 'Feature')\n",
    "plt.xlabel('Feature Importance')\n",
    "plt.ylabel('Feature')\n",
    "plt.legend()\n"
   ]
  },
  {
   "cell_type": "markdown",
   "id": "487f3615",
   "metadata": {},
   "source": [
    "By far, glucose is the most important indicator of diabetes. Age and all other factors come a distant second.  Now we will use the top 6 factors for creating our actual random forest classifier.  Before that, let us take a closer look at the feature `glucose` and the target label."
   ]
  },
  {
   "cell_type": "code",
   "execution_count": 156,
   "id": "31c5a96c",
   "metadata": {},
   "outputs": [
    {
     "data": {
      "text/plain": [
       "<AxesSubplot:xlabel='diabetes', ylabel='glucose'>"
      ]
     },
     "execution_count": 156,
     "metadata": {},
     "output_type": "execute_result"
    },
    {
     "data": {
      "image/png": "[encoded data removed]",
      "text/plain": [
       "<Figure size 432x288 with 1 Axes>"
      ]
     },
     "metadata": {
      "needs_background": "light"
     },
     "output_type": "display_data"
    }
   ],
   "source": [
    "sns.boxplot(data = diab_df, x = 'diabetes', y = 'glucose')"
   ]
  },
  {
   "cell_type": "markdown",
   "id": "650d5401",
   "metadata": {},
   "source": [
    "The outliers are a cause for concern.  Are there any mislabeled observations?  One would think so.   \n",
    "Refer https://www.cdc.gov/diabetes/images/basics/CDC_Diabetes_Social_Ad_Concept_A2_Facebook.png"
   ]
  },
  {
   "cell_type": "code",
   "execution_count": 168,
   "id": "79997998",
   "metadata": {},
   "outputs": [
    {
     "name": "stdout",
     "output_type": "stream",
     "text": [
      "Abnormal Sugar but not diabetic(!)\n",
      "      glucose  diabetes\n",
      "35       138         0\n",
      "104      126         0\n",
      "109      153         0\n",
      "116      197         0\n",
      "128      130         0\n",
      "134      128         0\n",
      "138      155         0\n",
      "201      155         0\n",
      "231      173         0\n",
      "261      193         0\n",
      "284      126         0\n",
      "296      270         0\n",
      "307      128         0\n",
      "338      174         0\n",
      "346      371         0\n",
      "371      131         0\n",
      "377      171         0\n",
      "Normal Sugar but diabetic(!)\n",
      "      glucose  diabetes\n",
      "40        60         1\n",
      "299       90         1\n",
      "326       90         1\n",
      "361       71         1\n"
     ]
    }
   ],
   "source": [
    "# Problematic observations: >=126mg/dL but indicated as non-diabetic\n",
    "print(\"Abnormal Sugar but not diabetic(!)\\n\",diab_df[(diab_df['glucose']>=126) & (diab_df['diabetes'] == 0)][['glucose','diabetes']])\n",
    "\n",
    "# Problematic observations: <=99mg/dL but shown as diabetic\n",
    "print(\"Normal Sugar but diabetic(!)\\n\",diab_df[(diab_df['glucose']<=99) & (diab_df['diabetes'] == 1)][['glucose','diabetes']])"
   ]
  },
  {
   "cell_type": "markdown",
   "id": "7970bf65",
   "metadata": {},
   "source": [
    "We need to fix these mislabeled observations. Not doing so might adversely impact our classifier."
   ]
  },
  {
   "cell_type": "code",
   "execution_count": 18,
   "id": "1aab9b42",
   "metadata": {},
   "outputs": [],
   "source": [
    "#Let us select the top n features.\n",
    "top_n_feat = 8\n",
    "feat_sel = list(feat_imp.index[:top_n_feat])\n",
    "X_sel = X[feat_sel]"
   ]
  },
  {
   "cell_type": "markdown",
   "id": "e7d9eb9a",
   "metadata": {},
   "source": [
    "### Model Fitting and Evaluation"
   ]
  },
  {
   "cell_type": "code",
   "execution_count": 19,
   "id": "c89e868a",
   "metadata": {},
   "outputs": [
    {
     "data": {
      "text/plain": [
       "RandomForestClassifier(criterion='entropy', min_samples_split=10)"
      ]
     },
     "execution_count": 19,
     "metadata": {},
     "output_type": "execute_result"
    }
   ],
   "source": [
    "from sklearn.model_selection import train_test_split\n",
    "X_sel_train, X_sel_test, y_train, y_test = train_test_split(X_sel, y, test_size = 0.33, \n",
    "                                                            random_state = 1, \n",
    "                                                            stratify = y\n",
    "                                                           )\n",
    "\n",
    "#from sklearn.ensemble import GradientBoostingClassifier\n",
    "#clf1 = GradientBoostingClassifier()\n",
    "clf1 = RandomForestClassifier(criterion = 'entropy', min_samples_split = 10)\n",
    "clf1.fit(X_sel_train, y_train.values)\n"
   ]
  },
  {
   "cell_type": "markdown",
   "id": "5262087c",
   "metadata": {},
   "source": [
    "**Confusion Matrix directly from estimator**. This confusion matrix is based on a fixed classifier threshold of 0.5.  For a precision-recall tradeoff -- which might be necessary in imbalanced datasets -- this may not be the preferred method."
   ]
  },
  {
   "cell_type": "code",
   "execution_count": 99,
   "id": "1a254256",
   "metadata": {},
   "outputs": [
    {
     "data": {
      "text/plain": [
       "Text(0.5, 1.0, 'Confusion Matrix')"
      ]
     },
     "execution_count": 99,
     "metadata": {},
     "output_type": "execute_result"
    },
    {
     "data": {
      "image/png": "[encoded data removed]",
      "text/plain": [
       "<Figure size 432x288 with 2 Axes>"
      ]
     },
     "metadata": {
      "needs_background": "light"
     },
     "output_type": "display_data"
    }
   ],
   "source": [
    "from sklearn import metrics\n",
    "#plot confusion matrix\n",
    "disp = metrics.ConfusionMatrixDisplay.from_estimator(clf1, X_sel_test, y_test, labels = (1,0), normalize = None, cmap='Blues')\n",
    "disp.ax_.grid(False)\n",
    "disp.ax_.set_title('Confusion Matrix')\n"
   ]
  },
  {
   "cell_type": "markdown",
   "id": "baff0adb",
   "metadata": {},
   "source": [
    "We will look at how to get classifier predictions based on an **adjustable proabability threshold** that will help us with precision-recall tradeoff."
   ]
  },
  {
   "cell_type": "code",
   "execution_count": 149,
   "id": "d5259af2",
   "metadata": {},
   "outputs": [
    {
     "data": {
      "text/plain": [
       "<sklearn.metrics._plot.confusion_matrix.ConfusionMatrixDisplay at 0x7fe9225e9a00>"
      ]
     },
     "execution_count": 149,
     "metadata": {},
     "output_type": "execute_result"
    },
    {
     "data": {
      "image/png": "[encoded data removed]",
      "text/plain": [
       "<Figure size 432x288 with 2 Axes>"
      ]
     },
     "metadata": {
      "needs_background": "light"
     },
     "output_type": "display_data"
    }
   ],
   "source": [
    "adj_thresh = True # set to True if you want adjustable threshold\n",
    "if adj_thresh:\n",
    "    clf_thresh = 0.4 # lower value improves recall but reduces precision and vice-versa\n",
    "    preds = [{True:1,False:0}[truth] for truth in (clf1.predict_proba(X_sel_test)[:,1] >= clf_thresh)]\n",
    "else:\n",
    "    preds = clf1.predict(X_sel_test)\n",
    "\n",
    "metrics.ConfusionMatrixDisplay.from_predictions(y_test, preds,labels = (1,0), normalize = None, cmap='Blues')"
   ]
  },
  {
   "cell_type": "code",
   "execution_count": 150,
   "id": "4297e4ab",
   "metadata": {},
   "outputs": [
    {
     "data": {
      "text/plain": [
       "Text(0.5, 1.0, 'ROC Curve')"
      ]
     },
     "execution_count": 150,
     "metadata": {},
     "output_type": "execute_result"
    },
    {
     "data": {
      "image/png": "[encoded data removed]",
      "text/plain": [
       "<Figure size 432x288 with 1 Axes>"
      ]
     },
     "metadata": {
      "needs_background": "light"
     },
     "output_type": "display_data"
    }
   ],
   "source": [
    "from sklearn.metrics import plot_roc_curve\n",
    "from sklearn.metrics import RocCurveDisplay\n",
    "import matplotlib.pyplot as plt\n",
    "#disp = RocCurveDisplay.from_estimator(clf1, X_sel_test, y_test)\n",
    "disp = RocCurveDisplay.from_predictions(y_test, preds)\n",
    "disp.ax_.grid(True)\n",
    "disp.ax_.set_title(\"ROC Curve\")"
   ]
  },
  {
   "cell_type": "code",
   "execution_count": 151,
   "id": "77cf3ae0",
   "metadata": {},
   "outputs": [
    {
     "name": "stdout",
     "output_type": "stream",
     "text": [
      "F1 Score: 0.76\n"
     ]
    },
    {
     "data": {
      "image/png": "[encoded data removed]",
      "text/plain": [
       "<Figure size 432x288 with 1 Axes>"
      ]
     },
     "metadata": {
      "needs_background": "light"
     },
     "output_type": "display_data"
    }
   ],
   "source": [
    "from sklearn.metrics import precision_recall_curve, average_precision_score\n",
    "from sklearn.metrics import plot_precision_recall_curve, f1_score\n",
    "\n",
    "y_score = clf1.predict_proba(X_sel_test)\n",
    "#average_precision = average_precision_score(y_test, y_score[:,1])\n",
    "average_precision = average_precision_score(y_test, preds)\n",
    "\n",
    "#disp = metrics.PrecisionRecallDisplay.from_estimator(clf1, X_sel_test, y_test)\n",
    "disp = metrics.PrecisionRecallDisplay.from_predictions(y_test, preds)\n",
    "disp.ax_.set_title('2-class precision recall curve: ' 'AP:{0:0.2f}'.format(average_precision))\n",
    "disp.ax_.grid(True)\n",
    "\n",
    "print(f'F1 Score: {f1_score(y_test, preds):0.2f}')"
   ]
  },
  {
   "cell_type": "markdown",
   "id": "d5304254",
   "metadata": {},
   "source": [
    "|| END ||\n",
    "------------------------"
   ]
  },
  {
   "cell_type": "code",
   "execution_count": null,
   "id": "97914719",
   "metadata": {},
   "outputs": [],
   "source": []
  }
 ],
 "metadata": {
  "kernelspec": {
   "display_name": "Python 3 (ipykernel)",
   "language": "python",
   "name": "python3"
  },
  "language_info": {
   "codemirror_mode": {
    "name": "ipython",
    "version": 3
   },
   "file_extension": ".py",
   "mimetype": "text/x-python",
   "name": "python",
   "nbconvert_exporter": "python",
   "pygments_lexer": "ipython3",
   "version": "3.8.5"
  }
 },
 "nbformat": 4,
 "nbformat_minor": 5
}
